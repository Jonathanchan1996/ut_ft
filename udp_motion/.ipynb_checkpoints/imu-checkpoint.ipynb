{
 "cells": [
  {
   "cell_type": "code",
   "execution_count": 1,
   "id": "20f24e82-9077-4295-be35-86c5fdf21e94",
   "metadata": {},
   "outputs": [
    {
     "name": "stdout",
     "output_type": "stream",
     "text": [
      "/home/rbh/miniconda3/envs/gasSensor/bin/python\n",
      "import OK\n",
      "data_old  imu.ipynb  motion2.csv  motion3.csv  motion.csv  motion_t.csv\n"
     ]
    }
   ],
   "source": [
    "import numpy as np\n",
    "import pandas as pd\n",
    "import matplotlib.pyplot as plt\n",
    "import datetime as dt\n",
    "import time, sys, socket\n",
    "print(sys.executable)\n",
    "from matplotlib.ticker import MaxNLocator\n",
    "import matplotlib.ticker as mticker\n",
    "import matplotlib.dates as md\n",
    "%matplotlib widget\n",
    "\n",
    "print('import OK')\n",
    "!ls"
   ]
  },
  {
   "cell_type": "code",
   "execution_count": 2,
   "id": "050e511b-38dc-4056-863c-d843705b8309",
   "metadata": {},
   "outputs": [],
   "source": [
    "#cols = ['time', 'qw', 'qx', 'qy', 'qz', 'gx', 'gy', 'gz','roll','pitch','yaw', 'ax', 'ay', 'az']\n",
    "cols = ['time','x','y', 'qw', 'qx', 'qy', 'qz', 'gx', 'gy', 'gz','roll','pitch','yaw', 'ax', 'ay', 'az']\n",
    "data = pd.read_csv('motion2.csv',delimiter=',', names =cols)\n",
    "data['time'] = data['time']/1e3\n",
    "data=data[data['time']<12]"
   ]
  },
  {
   "cell_type": "code",
   "execution_count": 5,
   "id": "3700e07a-3c73-4d5a-b027-d9e6430f6e72",
   "metadata": {},
   "outputs": [
    {
     "data": {
      "application/vnd.jupyter.widget-view+json": {
       "model_id": "a63bdd11b35d42c79bb36f6e7f4379f6",
       "version_major": 2,
       "version_minor": 0
      },
      "text/plain": [
       "Canvas(toolbar=Toolbar(toolitems=[('Home', 'Reset original view', 'home', 'home'), ('Back', 'Back to previous …"
      ]
     },
     "metadata": {},
     "output_type": "display_data"
    }
   ],
   "source": [
    "plt.close('all')\n",
    "fig, ax = plt.subplots(ncols=2,nrows=3,figsize=(12,6))\n",
    "thisAx = ax[0,0]\n",
    "data.plot(ax=thisAx,x='time', y='roll')\n",
    "thisAx.grid()\n",
    "thisAx = ax[1,0]\n",
    "data.plot(ax=thisAx,x='time', y='pitch')\n",
    "thisAx.grid()\n",
    "thisAx = ax[2,0]\n",
    "data.plot(ax=thisAx,x='time', y='yaw')\n",
    "thisAx.grid()\n",
    "thisAx.set_xlabel('Time (sec)')\n",
    "\n",
    "thisAx = ax[0,1]\n",
    "data.plot(ax=thisAx,x='time', y='x')\n",
    "thisAx.grid()\n",
    "thisAx = ax[1,1]\n",
    "data.plot(ax=thisAx,x='time', y='y')\n",
    "thisAx.grid()\n",
    "thisAx = ax[2,1]\n",
    "data.plot(ax=thisAx,x='time', y='az')\n",
    "thisAx.grid()\n",
    "fig.tight_layout()"
   ]
  },
  {
   "cell_type": "code",
   "execution_count": 6,
   "id": "4c583e66-0cd6-4a50-919c-bb626f0cee1a",
   "metadata": {},
   "outputs": [
    {
     "data": {
      "application/vnd.jupyter.widget-view+json": {
       "model_id": "5785fb519466432a9dfed01e8af4b20f",
       "version_major": 2,
       "version_minor": 0
      },
      "text/plain": [
       "Canvas(toolbar=Toolbar(toolitems=[('Home', 'Reset original view', 'home', 'home'), ('Back', 'Back to previous …"
      ]
     },
     "metadata": {},
     "output_type": "display_data"
    },
    {
     "data": {
      "text/plain": [
       "Text(0.5, 0, 'x(meter)')"
      ]
     },
     "execution_count": 6,
     "metadata": {},
     "output_type": "execute_result"
    }
   ],
   "source": [
    "plt.close('all')\n",
    "fig, ax = plt.subplots(nrows=1,figsize=(6,6))\n",
    "thisAx = ax\n",
    "data.plot(ax=thisAx,x='x', y='y')\n",
    "thisAx.grid()\n",
    "thisAx.set_title('Robot actual path form imu')\n",
    "thisAx.axis('equal')\n",
    "thisAx.set_ylabel('y(meter)')\n",
    "thisAx.set_xlabel('x(meter)')"
   ]
  },
  {
   "cell_type": "code",
   "execution_count": 294,
   "id": "3f94f6ff-2d0c-47ea-8e48-ad0f1841e91f",
   "metadata": {},
   "outputs": [],
   "source": [
    "data=data.iloc[:-1:10].reset_index(drop=True)"
   ]
  },
  {
   "cell_type": "code",
   "execution_count": 7,
   "id": "a0619fa8-c720-43b7-aec0-f9dc870929a7",
   "metadata": {},
   "outputs": [
    {
     "data": {
      "application/vnd.jupyter.widget-view+json": {
       "model_id": "f0820273abc8451695a25a12e19d9be9",
       "version_major": 2,
       "version_minor": 0
      },
      "text/plain": [
       "Canvas(toolbar=Toolbar(toolitems=[('Home', 'Reset original view', 'home', 'home'), ('Back', 'Back to previous …"
      ]
     },
     "metadata": {},
     "output_type": "display_data"
    },
    {
     "data": {
      "text/plain": [
       "Text(0.5, 0, 'x(meter)')"
      ]
     },
     "execution_count": 7,
     "metadata": {},
     "output_type": "execute_result"
    }
   ],
   "source": [
    "data['xx'] = data['x']*np.cos(data['yaw'])+data['y']*np.sin(data['yaw'])\n",
    "data['yy'] = data['x']*np.sin(data['yaw'])+data['y']*np.cos(data['yaw'])\n",
    "\n",
    "plt.close('all')\n",
    "fig, ax = plt.subplots(nrows=1,figsize=(6,6))\n",
    "thisAx = ax\n",
    "#data.plot.scatter(ax=thisAx,x='xx', y='yy')\n",
    "\n",
    "mag = 0.01\n",
    "for i in range(data['xx'].size):\n",
    "    thisAx.arrow(data['xx'][i],data['yy'][i], mag*np.cos(data['yaw'][i]), mag*np.sin(data['yaw'][i]), head_width=0.02, head_length=0.02)\n",
    "thisAx.grid()\n",
    "thisAx.set_title('Robot actual path form imu data, (x,y,yaw)')\n",
    "thisAx.axis('equal')\n",
    "thisAx.set_ylabel('y(meter)')\n",
    "thisAx.set_xlabel('x(meter)')"
   ]
  },
  {
   "cell_type": "code",
   "execution_count": 5,
   "id": "37269ac7-bed5-438e-b504-547799061196",
   "metadata": {},
   "outputs": [],
   "source": [
    "import math\n",
    " \n",
    "def euler_from_quaternion(w, x, y, z):\n",
    "        \"\"\"\n",
    "        Convert a quaternion into euler angles (roll, pitch, yaw)\n",
    "        \"\"\"\n",
    "        t0 = +2.0 * (w * x + y * z)\n",
    "        t1 = +1.0 - 2.0 * (x * x + y * y)\n",
    "        roll_x = np.arctan2(t0, t1)\n",
    "     \n",
    "        t2 = +2.0 * (w * y - z * x)\n",
    "        #t2 = +1.0 if t2 > +1.0 else t2\n",
    "        t2 = np.where(t2 > +1.0, 1.0, t2) \n",
    "        #t2 = -1.0 if t2 < -1.0 else t2\n",
    "        t2 = np.where(t2 < -1.0, -1.0, t2)\n",
    "        \n",
    "        pitch_y = np.arcsin(t2)\n",
    "        t3 = +2.0 * (w * z + x * y)\n",
    "        t4 = +1.0 - 2.0 * (y * y + z * z)\n",
    "        yaw_z = np.arctan2(t3, t4)\n",
    "        return roll_x, pitch_y, yaw_z # in radians\n",
    "\n",
    "rpy=euler_from_quaternion(data['qw'], data['qx'],data['qy'],data['qz'])\n"
   ]
  },
  {
   "cell_type": "code",
   "execution_count": 6,
   "id": "38b6cff4-4ec9-446d-be77-2921906ed81d",
   "metadata": {},
   "outputs": [
    {
     "data": {
      "application/vnd.jupyter.widget-view+json": {
       "model_id": "fdd8ce0daed64b21a3ca39fd2851d804",
       "version_major": 2,
       "version_minor": 0
      },
      "text/plain": [
       "Canvas(toolbar=Toolbar(toolitems=[('Home', 'Reset original view', 'home', 'home'), ('Back', 'Back to previous …"
      ]
     },
     "metadata": {},
     "output_type": "display_data"
    }
   ],
   "source": [
    "plt.close('all')\n",
    "fig, ax = plt.subplots(ncols=2,nrows=3,figsize=(6,6))\n",
    "\n",
    "thisAx=ax[0,0]\n",
    "thisAx.set_title('rpy calculated from quaternion')\n",
    "thisAx.plot(rpy[0])\n",
    "thisAx=ax[1,0]\n",
    "thisAx.plot(rpy[1])\n",
    "thisAx=ax[2,0]\n",
    "thisAx.plot(rpy[2])\n",
    "\n",
    "\n",
    "thisAx=ax[0,1]\n",
    "thisAx.set_title('rpy from robots library')\n",
    "data.plot(ax=thisAx,y='roll')\n",
    "thisAx=ax[1,1]\n",
    "data.plot(ax=thisAx,y='pitch')\n",
    "thisAx=ax[2,1]\n",
    "data.plot(ax=thisAx,y='yaw')\n",
    "\n",
    "fig.tight_layout()\n",
    "plt.show()"
   ]
  },
  {
   "cell_type": "code",
   "execution_count": 305,
   "id": "dc822143-83cc-4864-a8c9-4864b679a0e4",
   "metadata": {},
   "outputs": [
    {
     "data": {
      "application/vnd.jupyter.widget-view+json": {
       "model_id": "8f305452b89d4bcfa6c73782c1a43f5b",
       "version_major": 2,
       "version_minor": 0
      },
      "text/plain": [
       "Canvas(toolbar=Toolbar(toolitems=[('Home', 'Reset original view', 'home', 'home'), ('Back', 'Back to previous …"
      ]
     },
     "metadata": {},
     "output_type": "display_data"
    }
   ],
   "source": [
    "pitch = np.arctan2(data['ay'],data['az'])\n",
    "roll  = np.arctan2(data['ax'],np.sqrt(data['ay']*data['ay']+data['az']*data['az']))\n",
    "yaw   = np.arctan2(data['az'],np.sqrt(data['ax']*data['ax']+data['az']*data['az']))\n",
    "\n",
    "#roll = np.arctan2(data['ay'], data['az'])\n",
    "#pitch = np.arctan2(-data['ax'], np.sqrt(data['ay']*data['ay'] + data['az']*data['az']))\n",
    "\n",
    "plt.close('all')\n",
    "fig, ax = plt.subplots(ncols=2,nrows=3,figsize=(6,6))\n",
    "thisAx=ax[0,0]\n",
    "thisAx.plot(roll)\n",
    "thisAx=ax[1,0]\n",
    "thisAx.plot(pitch)\n",
    "thisAx=ax[2,0]\n",
    "thisAx.plot(yaw)\n",
    "#Robot calculation\n",
    "thisAx=ax[0,1]\n",
    "data.plot(ax=thisAx,y='roll')\n",
    "thisAx=ax[1,1]\n",
    "data.plot(ax=thisAx,y='pitch')\n",
    "thisAx=ax[2,1]\n",
    "data.plot(ax=thisAx,y='yaw')\n",
    "fig.tight_layout()\n",
    "plt.show()"
   ]
  },
  {
   "cell_type": "code",
   "execution_count": 130,
   "id": "f1a54015-3874-47f0-9486-ae56207c63dd",
   "metadata": {},
   "outputs": [
    {
     "data": {
      "application/vnd.jupyter.widget-view+json": {
       "model_id": "cbd6965b73c74f85a68eee0c5960629c",
       "version_major": 2,
       "version_minor": 0
      },
      "text/plain": [
       "Canvas(toolbar=Toolbar(toolitems=[('Home', 'Reset original view', 'home', 'home'), ('Back', 'Back to previous …"
      ]
     },
     "metadata": {},
     "output_type": "display_data"
    }
   ],
   "source": [
    "plt.close('all')\n",
    "fig, ax = plt.subplots(nrows=3,figsize=(6,6))\n",
    "thisAx = ax[0]\n",
    "data.plot(ax=thisAx,x='time', y='gx')\n",
    "thisAx.grid()\n",
    "thisAx = ax[1]\n",
    "data.plot(ax=thisAx,x='time', y='gy')\n",
    "thisAx.grid()\n",
    "thisAx = ax[2]\n",
    "data.plot(ax=thisAx,x='time', y='gz')\n",
    "thisAx.set_xlabel('Time (sec)')\n",
    "thisAx.grid()"
   ]
  },
  {
   "cell_type": "code",
   "execution_count": 142,
   "id": "4d78e907-bacd-4223-ba15-28c9fa243859",
   "metadata": {},
   "outputs": [
    {
     "data": {
      "text/plain": [
       "0      0.003365\n",
       "1      0.003531\n",
       "2      0.004094\n",
       "3      0.004221\n",
       "4      0.004596\n",
       "         ...   \n",
       "790    0.003202\n",
       "791    0.003199\n",
       "792    0.003208\n",
       "793    0.003205\n",
       "794    0.003207\n",
       "Name: xx, Length: 795, dtype: float64"
      ]
     },
     "execution_count": 142,
     "metadata": {},
     "output_type": "execute_result"
    }
   ],
   "source": [
    "data['xx']"
   ]
  }
 ],
 "metadata": {
  "kernelspec": {
   "display_name": "Python 3",
   "language": "python",
   "name": "python3"
  },
  "language_info": {
   "codemirror_mode": {
    "name": "ipython",
    "version": 3
   },
   "file_extension": ".py",
   "mimetype": "text/x-python",
   "name": "python",
   "nbconvert_exporter": "python",
   "pygments_lexer": "ipython3",
   "version": "3.7.10"
  }
 },
 "nbformat": 4,
 "nbformat_minor": 5
}
