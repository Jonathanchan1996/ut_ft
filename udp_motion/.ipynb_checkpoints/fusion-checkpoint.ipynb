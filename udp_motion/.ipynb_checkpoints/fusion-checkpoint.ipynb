{
 "cells": [
  {
   "cell_type": "code",
   "execution_count": 4,
   "id": "58089f34-2ab7-48f1-b49a-0921d61cb870",
   "metadata": {},
   "outputs": [],
   "source": [
    "import _thread, time, socket, json\n",
    "import unitree_sdk as utct\n",
    "import numpy as np\n",
    "from IPython.display import clear_output\n",
    "import unitree_cv as utcv\n",
    "import keyboard"
   ]
  },
  {
   "cell_type": "markdown",
   "id": "f40e7530-cd2f-4b83-99a5-66cbd6781495",
   "metadata": {},
   "source": [
    "## Main program below"
   ]
  },
  {
   "cell_type": "code",
   "execution_count": 2,
   "id": "fa80a3b2-c6bf-4718-a4d5-eb50cced5658",
   "metadata": {
    "jupyter": {
     "source_hidden": true
    },
    "tags": []
   },
   "outputs": [],
   "source": [
    "# CV-PID main\n",
    "   \n",
    "def imu_ctrl_main(threadName, delay):\n",
    "    global cvCenterErr, cvLineDistance, cvEnable\n",
    "    myUt = utct.controller('192.168.123.162', 3114)\n",
    "\n",
    "    for mySp in mySpLst:\n",
    "        for i in range(mySp.maxRunCnt):\n",
    "            print(cvCenterErr, cvLineDistance)\n",
    "            myUt.getState()\n",
    "            \n",
    "            if cvEnable==True:\n",
    "                ctrl_fs = 0.1*(cvLineDistance-400)#2*(mySp.x-myUt.imu['pos'][0]) \n",
    "                ctrl_ss = cvCenterErr/800\n",
    "                ctrl_rs = 2*utct.roundYawCtrl(mySp.yaw-myUt.imu['rpy'][2])\n",
    "            else:\n",
    "                ctrl_fs = 1.5*(mySp.x-myUt.imu['pos'][0]) \n",
    "                ctrl_ss = 3*(mySp.y-myUt.imu['pos'][1])\n",
    "                ctrl_rs = 2*utct.roundYawCtrl(mySp.yaw-myUt.imu['rpy'][2])\n",
    "            myUt.runSpeed(ctrl_fs, ctrl_ss, ctrl_rs)\n",
    "            time.sleep(mySp.timeStep)\n",
    "            clear_output(wait=True)\n",
    "    del myUt\n",
    "    isCtrlEnd=True\n",
    "    print(threadName, 'end', isCtrlEnd)"
   ]
  },
  {
   "cell_type": "code",
   "execution_count": 36,
   "id": "5cb10d79-1157-45df-abd6-062f3541b836",
   "metadata": {},
   "outputs": [],
   "source": [
    "# PID main\n",
    "   \n",
    "def imu_ctrl_main(threadName, delay):\n",
    "    global cvCenterErr, cvLineDistance, cvEnable\n",
    "    myUt = utct.controller('192.168.123.162', 3114)\n",
    "\n",
    "    for mySp in mySpLst:\n",
    "        for i in range(mySp.maxRunCnt):\n",
    "            #print(cvCenterErr, cvLineDistance)\n",
    "            myUt.getState()\n",
    "            ctrl_fs = 1.5*(mySp.x-myUt.imu['pos'][0]) \n",
    "            ctrl_ss = 3*(mySp.y-myUt.imu['pos'][1])\n",
    "            ctrl_rs = 2*utct.roundYawCtrl(mySp.yaw-myUt.imu['rpy'][2])\n",
    "            myUt.runSpeed(ctrl_fs, ctrl_ss, ctrl_rs)\n",
    "            time.sleep(mySp.timeStep)\n",
    "            #clear_output(wait=True)\n",
    "        while mySp.isKeyboardCont:\n",
    "            if keyboard.is_pressed('q'):# or mySp==mySpLst[-1]:\n",
    "                print('Next Step')\n",
    "                break\n",
    "    del myUt\n",
    "    isCtrlEnd=True\n",
    "    print(threadName, 'end', isCtrlEnd)"
   ]
  },
  {
   "cell_type": "code",
   "execution_count": 3,
   "id": "e6557f18-19b0-43de-95ff-12739bf35725",
   "metadata": {
    "jupyter": {
     "source_hidden": true
    },
    "tags": []
   },
   "outputs": [],
   "source": [
    "#cv loop\n",
    "def cv_main(threadName, delay):\n",
    "    global cvCenterErr, cvLineDistance, isCtrlEnd\n",
    "    myCv = utcv.cvFindLine('http://192.168.123.12:8080/?action=stream')\n",
    "    while 1:\n",
    "        clear_output(wait=True)\n",
    "        print(isCtrlEnd)\n",
    "        cvCenterErr, cvLineDistance = myCv.run(True)\n",
    "        if myCv.exitCv() or (isCtrlEnd==True): \n",
    "            del myCv\n",
    "            print(threadName, 'end')\n",
    "            break"
   ]
  },
  {
   "cell_type": "code",
   "execution_count": 16,
   "id": "aa19ab44-94b8-4b23-9954-ce29d34557a5",
   "metadata": {
    "jupyter": {
     "source_hidden": true
    },
    "tags": []
   },
   "outputs": [],
   "source": [
    "#cv loop - cricle\n",
    "def cv_main(threadName, delay):\n",
    "    global cvCenterErr, cvLineDistance, isCtrlEnd\n",
    "    myCv = utcv.cvFindCircle('http://192.168.123.12:8080/?action=stream')\n",
    "    while 1:\n",
    "        clear_output(wait=True)\n",
    "        cvCenterErr, cvLineDistance = myCv.run(True)\n",
    "        if myCv.exitCv() or (isCtrlEnd==True):\n",
    "            del myCv\n",
    "            print(threadName, 'end')\n",
    "            break"
   ]
  },
  {
   "cell_type": "code",
   "execution_count": 5,
   "id": "71780536-603d-45e8-aa65-7418bb988f69",
   "metadata": {
    "collapsed": true,
    "jupyter": {
     "outputs_hidden": true,
     "source_hidden": true
    },
    "tags": []
   },
   "outputs": [
    {
     "name": "stdout",
     "output_type": "stream",
     "text": [
      "37 111\n"
     ]
    },
    {
     "name": "stderr",
     "output_type": "stream",
     "text": [
      "Exception ignored in thread started by: <function imu_ctrl_main at 0x0000026CC0C629D0>\n",
      "Traceback (most recent call last):\n",
      "  File \"C:\\Users\\Jonathan\\AppData\\Local\\Temp/ipykernel_15292/609369765.py\", line 10, in imu_ctrl_main\n",
      "  File \"E:\\Jonathan\\GitHub\\ut_ft\\udp_motion\\unitree_sdk.py\", line 38, in getState\n",
      "    self.rawData, self.addr = self.sock.recvfrom(1024)\n",
      "socket.timeout: timed out\n",
      "Exception ignored in thread started by: <function cv_main at 0x0000026CC0C62A60>\n",
      "Traceback (most recent call last):\n",
      "  File \"C:\\Users\\Jonathan\\AppData\\Local\\Temp/ipykernel_15292/265742653.py\", line 8, in cv_main\n",
      "  File \"E:\\Jonathan\\GitHub\\ut_ft\\udp_motion\\unitree_cv.py\", line 23, in run\n",
      "    meanVec.append(img[i,:, j])\n",
      "TypeError: 'NoneType' object is not subscriptable\n"
     ]
    }
   ],
   "source": [
    "#Pathing \n",
    "\n",
    "box_x = 0.8\n",
    "box_a = -0.00*np.pi#angle\n",
    "mySpLst = [] #List of position set point\n",
    "mySpLst.append(utct.setPoint( 0.0, 0.0, box_a, maxRunCnt=50))\n",
    "mySpLst.append(utct.setPoint( 2.0, 0.0, box_a, maxRunCnt=100))\n",
    "mySpLst.append(utct.setPoint( 3.0, 0.0, box_a, maxRunCnt=200, stopMs=3000))\n",
    "#mySpLst.append(utct.setPoint( 3.0, box_x, box_a, maxRunCnt=200, stopMs=1000))\n",
    "#mySpLst.append(utct.setPoint( 3.0, box_x*2, box_a, maxRunCnt=200, stopMs=1000))\n",
    "mySpLst.append(utct.setPoint( 1.0, 0.0, box_a, maxRunCnt=300))\n",
    "mySpLst.append(utct.setPoint( 0.0, 0.0, box_a, maxRunCnt=500))\n",
    "\n",
    "#mySpLst.append(utct.setPoint(-3.0, box_x, 0.0*np.pi, maxRunCnt=200))\n",
    "#mySpLst.append(utct.setPoint(-3.0, box_x*2, 0.0*np.pi, maxRunCnt=200))\n",
    "\n",
    "\n",
    "#Main main\n",
    "cvCenterErr, cvLineDistance = 0,800\n",
    "isCtrlEnd = False\n",
    "cvEnable = False\n",
    "_thread.start_new_thread(imu_ctrl_main, (\"imu_ctrl_thread\", 1))\n",
    "_thread.start_new_thread(cv_main, (\"cv_thread\", 2, ))"
   ]
  },
  {
   "cell_type": "code",
   "execution_count": 41,
   "id": "20ea4a02-2ef7-4f8e-9483-2e6f4732c53a",
   "metadata": {},
   "outputs": [
    {
     "name": "stdout",
     "output_type": "stream",
     "text": [
      "Next Step\n",
      "Next Step\n",
      "imu_ctrl_thread end True\n"
     ]
    }
   ],
   "source": [
    "#Settings\n",
    "\n",
    "box_x = 0.8\n",
    "yaw_offset = -0.2*np.pi\n",
    "mySpLst = [] #List of position set point\n",
    "#mySpLst.append(utct.setPoint( 0., -1, yaw_offset, maxRunCnt=400, stopMs=500))\n",
    "#mySpLst.append(utct.setPoint( 0., +0.8, yaw_offset, maxRunCnt=400, stopMs=500))\n",
    "\n",
    "mySpLst.append(utct.setPoint( 1,  0, yaw_offset, maxRunCnt=400, stopMs=500, isKeyboardCont=True))\n",
    "mySpLst.append(utct.setPoint( -1, 0, yaw_offset, maxRunCnt=400, stopMs=500, isKeyboardCont=False))\n",
    "\n",
    "#Main main\n",
    "cvCenterErr, cvLineDistance = 0,800\n",
    "isCtrlEnd = False\n",
    "cvEnable = False\n",
    "#_thread.start_new_thread(imu_ctrl_main, (\"imu_ctrl_thread\", 1))\n",
    "#_thread.start_new_thread(cv_main, (\"cv_thread\", 2, ))\n",
    "imu_ctrl_main(\"imu_ctrl_thread\",1)\n"
   ]
  }
 ],
 "metadata": {
  "kernelspec": {
   "display_name": "Python 3",
   "language": "python",
   "name": "python3"
  },
  "language_info": {
   "codemirror_mode": {
    "name": "ipython",
    "version": 3
   },
   "file_extension": ".py",
   "mimetype": "text/x-python",
   "name": "python",
   "nbconvert_exporter": "python",
   "pygments_lexer": "ipython3",
   "version": "3.8.12"
  }
 },
 "nbformat": 4,
 "nbformat_minor": 5
}
