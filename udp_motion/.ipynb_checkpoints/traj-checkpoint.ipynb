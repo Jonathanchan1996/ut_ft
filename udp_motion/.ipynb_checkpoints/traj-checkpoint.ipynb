{
 "cells": [
  {
   "cell_type": "code",
   "execution_count": 2,
   "id": "85e71fa8-2a90-4aeb-b283-88d8b5b329dc",
   "metadata": {},
   "outputs": [
    {
     "ename": "ModuleNotFoundError",
     "evalue": "No module named 'ipympl'",
     "output_type": "error",
     "traceback": [
      "\u001b[1;31m---------------------------------------------------------------------------\u001b[0m",
      "\u001b[1;31mModuleNotFoundError\u001b[0m                       Traceback (most recent call last)",
      "\u001b[1;32m~\\AppData\\Local\\Temp/ipykernel_13772/1746571647.py\u001b[0m in \u001b[0;36m<module>\u001b[1;34m\u001b[0m\n\u001b[0;32m      2\u001b[0m \u001b[1;32mfrom\u001b[0m \u001b[0mscipy\u001b[0m\u001b[1;33m.\u001b[0m\u001b[0mlinalg\u001b[0m \u001b[1;32mimport\u001b[0m \u001b[0msolve\u001b[0m\u001b[1;33m\u001b[0m\u001b[1;33m\u001b[0m\u001b[0m\n\u001b[0;32m      3\u001b[0m \u001b[1;32mimport\u001b[0m \u001b[0mmatplotlib\u001b[0m\u001b[1;33m.\u001b[0m\u001b[0mpyplot\u001b[0m \u001b[1;32mas\u001b[0m \u001b[0mplt\u001b[0m\u001b[1;33m\u001b[0m\u001b[1;33m\u001b[0m\u001b[0m\n\u001b[1;32m----> 4\u001b[1;33m \u001b[0mget_ipython\u001b[0m\u001b[1;33m(\u001b[0m\u001b[1;33m)\u001b[0m\u001b[1;33m.\u001b[0m\u001b[0mrun_line_magic\u001b[0m\u001b[1;33m(\u001b[0m\u001b[1;34m'matplotlib'\u001b[0m\u001b[1;33m,\u001b[0m \u001b[1;34m'widget'\u001b[0m\u001b[1;33m)\u001b[0m\u001b[1;33m\u001b[0m\u001b[1;33m\u001b[0m\u001b[0m\n\u001b[0m",
      "\u001b[1;32mE:\\Software\\anaconda3\\envs\\unitree_cv\\lib\\site-packages\\IPython\\core\\interactiveshell.py\u001b[0m in \u001b[0;36mrun_line_magic\u001b[1;34m(self, magic_name, line, _stack_depth)\u001b[0m\n\u001b[0;32m   2349\u001b[0m                 \u001b[0mkwargs\u001b[0m\u001b[1;33m[\u001b[0m\u001b[1;34m'local_ns'\u001b[0m\u001b[1;33m]\u001b[0m \u001b[1;33m=\u001b[0m \u001b[0mself\u001b[0m\u001b[1;33m.\u001b[0m\u001b[0mget_local_scope\u001b[0m\u001b[1;33m(\u001b[0m\u001b[0mstack_depth\u001b[0m\u001b[1;33m)\u001b[0m\u001b[1;33m\u001b[0m\u001b[1;33m\u001b[0m\u001b[0m\n\u001b[0;32m   2350\u001b[0m             \u001b[1;32mwith\u001b[0m \u001b[0mself\u001b[0m\u001b[1;33m.\u001b[0m\u001b[0mbuiltin_trap\u001b[0m\u001b[1;33m:\u001b[0m\u001b[1;33m\u001b[0m\u001b[1;33m\u001b[0m\u001b[0m\n\u001b[1;32m-> 2351\u001b[1;33m                 \u001b[0mresult\u001b[0m \u001b[1;33m=\u001b[0m \u001b[0mfn\u001b[0m\u001b[1;33m(\u001b[0m\u001b[1;33m*\u001b[0m\u001b[0margs\u001b[0m\u001b[1;33m,\u001b[0m \u001b[1;33m**\u001b[0m\u001b[0mkwargs\u001b[0m\u001b[1;33m)\u001b[0m\u001b[1;33m\u001b[0m\u001b[1;33m\u001b[0m\u001b[0m\n\u001b[0m\u001b[0;32m   2352\u001b[0m             \u001b[1;32mreturn\u001b[0m \u001b[0mresult\u001b[0m\u001b[1;33m\u001b[0m\u001b[1;33m\u001b[0m\u001b[0m\n\u001b[0;32m   2353\u001b[0m \u001b[1;33m\u001b[0m\u001b[0m\n",
      "\u001b[1;32mE:\\Software\\anaconda3\\envs\\unitree_cv\\lib\\site-packages\\decorator.py\u001b[0m in \u001b[0;36mfun\u001b[1;34m(*args, **kw)\u001b[0m\n\u001b[0;32m    230\u001b[0m             \u001b[1;32mif\u001b[0m \u001b[1;32mnot\u001b[0m \u001b[0mkwsyntax\u001b[0m\u001b[1;33m:\u001b[0m\u001b[1;33m\u001b[0m\u001b[1;33m\u001b[0m\u001b[0m\n\u001b[0;32m    231\u001b[0m                 \u001b[0margs\u001b[0m\u001b[1;33m,\u001b[0m \u001b[0mkw\u001b[0m \u001b[1;33m=\u001b[0m \u001b[0mfix\u001b[0m\u001b[1;33m(\u001b[0m\u001b[0margs\u001b[0m\u001b[1;33m,\u001b[0m \u001b[0mkw\u001b[0m\u001b[1;33m,\u001b[0m \u001b[0msig\u001b[0m\u001b[1;33m)\u001b[0m\u001b[1;33m\u001b[0m\u001b[1;33m\u001b[0m\u001b[0m\n\u001b[1;32m--> 232\u001b[1;33m             \u001b[1;32mreturn\u001b[0m \u001b[0mcaller\u001b[0m\u001b[1;33m(\u001b[0m\u001b[0mfunc\u001b[0m\u001b[1;33m,\u001b[0m \u001b[1;33m*\u001b[0m\u001b[1;33m(\u001b[0m\u001b[0mextras\u001b[0m \u001b[1;33m+\u001b[0m \u001b[0margs\u001b[0m\u001b[1;33m)\u001b[0m\u001b[1;33m,\u001b[0m \u001b[1;33m**\u001b[0m\u001b[0mkw\u001b[0m\u001b[1;33m)\u001b[0m\u001b[1;33m\u001b[0m\u001b[1;33m\u001b[0m\u001b[0m\n\u001b[0m\u001b[0;32m    233\u001b[0m     \u001b[0mfun\u001b[0m\u001b[1;33m.\u001b[0m\u001b[0m__name__\u001b[0m \u001b[1;33m=\u001b[0m \u001b[0mfunc\u001b[0m\u001b[1;33m.\u001b[0m\u001b[0m__name__\u001b[0m\u001b[1;33m\u001b[0m\u001b[1;33m\u001b[0m\u001b[0m\n\u001b[0;32m    234\u001b[0m     \u001b[0mfun\u001b[0m\u001b[1;33m.\u001b[0m\u001b[0m__doc__\u001b[0m \u001b[1;33m=\u001b[0m \u001b[0mfunc\u001b[0m\u001b[1;33m.\u001b[0m\u001b[0m__doc__\u001b[0m\u001b[1;33m\u001b[0m\u001b[1;33m\u001b[0m\u001b[0m\n",
      "\u001b[1;32mE:\\Software\\anaconda3\\envs\\unitree_cv\\lib\\site-packages\\IPython\\core\\magic.py\u001b[0m in \u001b[0;36m<lambda>\u001b[1;34m(f, *a, **k)\u001b[0m\n\u001b[0;32m    185\u001b[0m     \u001b[1;31m# but it's overkill for just that one bit of state.\u001b[0m\u001b[1;33m\u001b[0m\u001b[1;33m\u001b[0m\u001b[1;33m\u001b[0m\u001b[0m\n\u001b[0;32m    186\u001b[0m     \u001b[1;32mdef\u001b[0m \u001b[0mmagic_deco\u001b[0m\u001b[1;33m(\u001b[0m\u001b[0marg\u001b[0m\u001b[1;33m)\u001b[0m\u001b[1;33m:\u001b[0m\u001b[1;33m\u001b[0m\u001b[1;33m\u001b[0m\u001b[0m\n\u001b[1;32m--> 187\u001b[1;33m         \u001b[0mcall\u001b[0m \u001b[1;33m=\u001b[0m \u001b[1;32mlambda\u001b[0m \u001b[0mf\u001b[0m\u001b[1;33m,\u001b[0m \u001b[1;33m*\u001b[0m\u001b[0ma\u001b[0m\u001b[1;33m,\u001b[0m \u001b[1;33m**\u001b[0m\u001b[0mk\u001b[0m\u001b[1;33m:\u001b[0m \u001b[0mf\u001b[0m\u001b[1;33m(\u001b[0m\u001b[1;33m*\u001b[0m\u001b[0ma\u001b[0m\u001b[1;33m,\u001b[0m \u001b[1;33m**\u001b[0m\u001b[0mk\u001b[0m\u001b[1;33m)\u001b[0m\u001b[1;33m\u001b[0m\u001b[1;33m\u001b[0m\u001b[0m\n\u001b[0m\u001b[0;32m    188\u001b[0m \u001b[1;33m\u001b[0m\u001b[0m\n\u001b[0;32m    189\u001b[0m         \u001b[1;32mif\u001b[0m \u001b[0mcallable\u001b[0m\u001b[1;33m(\u001b[0m\u001b[0marg\u001b[0m\u001b[1;33m)\u001b[0m\u001b[1;33m:\u001b[0m\u001b[1;33m\u001b[0m\u001b[1;33m\u001b[0m\u001b[0m\n",
      "\u001b[1;32mE:\\Software\\anaconda3\\envs\\unitree_cv\\lib\\site-packages\\IPython\\core\\magics\\pylab.py\u001b[0m in \u001b[0;36mmatplotlib\u001b[1;34m(self, line)\u001b[0m\n\u001b[0;32m     97\u001b[0m             \u001b[0mprint\u001b[0m\u001b[1;33m(\u001b[0m\u001b[1;34m\"Available matplotlib backends: %s\"\u001b[0m \u001b[1;33m%\u001b[0m \u001b[0mbackends_list\u001b[0m\u001b[1;33m)\u001b[0m\u001b[1;33m\u001b[0m\u001b[1;33m\u001b[0m\u001b[0m\n\u001b[0;32m     98\u001b[0m         \u001b[1;32melse\u001b[0m\u001b[1;33m:\u001b[0m\u001b[1;33m\u001b[0m\u001b[1;33m\u001b[0m\u001b[0m\n\u001b[1;32m---> 99\u001b[1;33m             \u001b[0mgui\u001b[0m\u001b[1;33m,\u001b[0m \u001b[0mbackend\u001b[0m \u001b[1;33m=\u001b[0m \u001b[0mself\u001b[0m\u001b[1;33m.\u001b[0m\u001b[0mshell\u001b[0m\u001b[1;33m.\u001b[0m\u001b[0menable_matplotlib\u001b[0m\u001b[1;33m(\u001b[0m\u001b[0margs\u001b[0m\u001b[1;33m.\u001b[0m\u001b[0mgui\u001b[0m\u001b[1;33m.\u001b[0m\u001b[0mlower\u001b[0m\u001b[1;33m(\u001b[0m\u001b[1;33m)\u001b[0m \u001b[1;32mif\u001b[0m \u001b[0misinstance\u001b[0m\u001b[1;33m(\u001b[0m\u001b[0margs\u001b[0m\u001b[1;33m.\u001b[0m\u001b[0mgui\u001b[0m\u001b[1;33m,\u001b[0m \u001b[0mstr\u001b[0m\u001b[1;33m)\u001b[0m \u001b[1;32melse\u001b[0m \u001b[0margs\u001b[0m\u001b[1;33m.\u001b[0m\u001b[0mgui\u001b[0m\u001b[1;33m)\u001b[0m\u001b[1;33m\u001b[0m\u001b[1;33m\u001b[0m\u001b[0m\n\u001b[0m\u001b[0;32m    100\u001b[0m             \u001b[0mself\u001b[0m\u001b[1;33m.\u001b[0m\u001b[0m_show_matplotlib_backend\u001b[0m\u001b[1;33m(\u001b[0m\u001b[0margs\u001b[0m\u001b[1;33m.\u001b[0m\u001b[0mgui\u001b[0m\u001b[1;33m,\u001b[0m \u001b[0mbackend\u001b[0m\u001b[1;33m)\u001b[0m\u001b[1;33m\u001b[0m\u001b[1;33m\u001b[0m\u001b[0m\n\u001b[0;32m    101\u001b[0m \u001b[1;33m\u001b[0m\u001b[0m\n",
      "\u001b[1;32mE:\\Software\\anaconda3\\envs\\unitree_cv\\lib\\site-packages\\IPython\\core\\interactiveshell.py\u001b[0m in \u001b[0;36menable_matplotlib\u001b[1;34m(self, gui)\u001b[0m\n\u001b[0;32m   3531\u001b[0m                 \u001b[0mgui\u001b[0m\u001b[1;33m,\u001b[0m \u001b[0mbackend\u001b[0m \u001b[1;33m=\u001b[0m \u001b[0mpt\u001b[0m\u001b[1;33m.\u001b[0m\u001b[0mfind_gui_and_backend\u001b[0m\u001b[1;33m(\u001b[0m\u001b[0mself\u001b[0m\u001b[1;33m.\u001b[0m\u001b[0mpylab_gui_select\u001b[0m\u001b[1;33m)\u001b[0m\u001b[1;33m\u001b[0m\u001b[1;33m\u001b[0m\u001b[0m\n\u001b[0;32m   3532\u001b[0m \u001b[1;33m\u001b[0m\u001b[0m\n\u001b[1;32m-> 3533\u001b[1;33m         \u001b[0mpt\u001b[0m\u001b[1;33m.\u001b[0m\u001b[0mactivate_matplotlib\u001b[0m\u001b[1;33m(\u001b[0m\u001b[0mbackend\u001b[0m\u001b[1;33m)\u001b[0m\u001b[1;33m\u001b[0m\u001b[1;33m\u001b[0m\u001b[0m\n\u001b[0m\u001b[0;32m   3534\u001b[0m         \u001b[0mconfigure_inline_support\u001b[0m\u001b[1;33m(\u001b[0m\u001b[0mself\u001b[0m\u001b[1;33m,\u001b[0m \u001b[0mbackend\u001b[0m\u001b[1;33m)\u001b[0m\u001b[1;33m\u001b[0m\u001b[1;33m\u001b[0m\u001b[0m\n\u001b[0;32m   3535\u001b[0m \u001b[1;33m\u001b[0m\u001b[0m\n",
      "\u001b[1;32mE:\\Software\\anaconda3\\envs\\unitree_cv\\lib\\site-packages\\IPython\\core\\pylabtools.py\u001b[0m in \u001b[0;36mactivate_matplotlib\u001b[1;34m(backend)\u001b[0m\n\u001b[0;32m    357\u001b[0m     \u001b[1;32mfrom\u001b[0m \u001b[0mmatplotlib\u001b[0m \u001b[1;32mimport\u001b[0m \u001b[0mpyplot\u001b[0m \u001b[1;32mas\u001b[0m \u001b[0mplt\u001b[0m\u001b[1;33m\u001b[0m\u001b[1;33m\u001b[0m\u001b[0m\n\u001b[0;32m    358\u001b[0m \u001b[1;33m\u001b[0m\u001b[0m\n\u001b[1;32m--> 359\u001b[1;33m     \u001b[0mplt\u001b[0m\u001b[1;33m.\u001b[0m\u001b[0mswitch_backend\u001b[0m\u001b[1;33m(\u001b[0m\u001b[0mbackend\u001b[0m\u001b[1;33m)\u001b[0m\u001b[1;33m\u001b[0m\u001b[1;33m\u001b[0m\u001b[0m\n\u001b[0m\u001b[0;32m    360\u001b[0m \u001b[1;33m\u001b[0m\u001b[0m\n\u001b[0;32m    361\u001b[0m     \u001b[0mplt\u001b[0m\u001b[1;33m.\u001b[0m\u001b[0mshow\u001b[0m\u001b[1;33m.\u001b[0m\u001b[0m_needmain\u001b[0m \u001b[1;33m=\u001b[0m \u001b[1;32mFalse\u001b[0m\u001b[1;33m\u001b[0m\u001b[1;33m\u001b[0m\u001b[0m\n",
      "\u001b[1;32mE:\\Software\\anaconda3\\envs\\unitree_cv\\lib\\site-packages\\matplotlib\\pyplot.py\u001b[0m in \u001b[0;36mswitch_backend\u001b[1;34m(newbackend)\u001b[0m\n\u001b[0;32m    265\u001b[0m     \u001b[0mbackend_name\u001b[0m \u001b[1;33m=\u001b[0m \u001b[0mcbook\u001b[0m\u001b[1;33m.\u001b[0m\u001b[0m_backend_module_name\u001b[0m\u001b[1;33m(\u001b[0m\u001b[0mnewbackend\u001b[0m\u001b[1;33m)\u001b[0m\u001b[1;33m\u001b[0m\u001b[1;33m\u001b[0m\u001b[0m\n\u001b[0;32m    266\u001b[0m \u001b[1;33m\u001b[0m\u001b[0m\n\u001b[1;32m--> 267\u001b[1;33m     \u001b[1;32mclass\u001b[0m \u001b[0mbackend_mod\u001b[0m\u001b[1;33m(\u001b[0m\u001b[0mmatplotlib\u001b[0m\u001b[1;33m.\u001b[0m\u001b[0mbackend_bases\u001b[0m\u001b[1;33m.\u001b[0m\u001b[0m_Backend\u001b[0m\u001b[1;33m)\u001b[0m\u001b[1;33m:\u001b[0m\u001b[1;33m\u001b[0m\u001b[1;33m\u001b[0m\u001b[0m\n\u001b[0m\u001b[0;32m    268\u001b[0m         \u001b[0mlocals\u001b[0m\u001b[1;33m(\u001b[0m\u001b[1;33m)\u001b[0m\u001b[1;33m.\u001b[0m\u001b[0mupdate\u001b[0m\u001b[1;33m(\u001b[0m\u001b[0mvars\u001b[0m\u001b[1;33m(\u001b[0m\u001b[0mimportlib\u001b[0m\u001b[1;33m.\u001b[0m\u001b[0mimport_module\u001b[0m\u001b[1;33m(\u001b[0m\u001b[0mbackend_name\u001b[0m\u001b[1;33m)\u001b[0m\u001b[1;33m)\u001b[0m\u001b[1;33m)\u001b[0m\u001b[1;33m\u001b[0m\u001b[1;33m\u001b[0m\u001b[0m\n\u001b[0;32m    269\u001b[0m \u001b[1;33m\u001b[0m\u001b[0m\n",
      "\u001b[1;32mE:\\Software\\anaconda3\\envs\\unitree_cv\\lib\\site-packages\\matplotlib\\pyplot.py\u001b[0m in \u001b[0;36mbackend_mod\u001b[1;34m()\u001b[0m\n\u001b[0;32m    266\u001b[0m \u001b[1;33m\u001b[0m\u001b[0m\n\u001b[0;32m    267\u001b[0m     \u001b[1;32mclass\u001b[0m \u001b[0mbackend_mod\u001b[0m\u001b[1;33m(\u001b[0m\u001b[0mmatplotlib\u001b[0m\u001b[1;33m.\u001b[0m\u001b[0mbackend_bases\u001b[0m\u001b[1;33m.\u001b[0m\u001b[0m_Backend\u001b[0m\u001b[1;33m)\u001b[0m\u001b[1;33m:\u001b[0m\u001b[1;33m\u001b[0m\u001b[1;33m\u001b[0m\u001b[0m\n\u001b[1;32m--> 268\u001b[1;33m         \u001b[0mlocals\u001b[0m\u001b[1;33m(\u001b[0m\u001b[1;33m)\u001b[0m\u001b[1;33m.\u001b[0m\u001b[0mupdate\u001b[0m\u001b[1;33m(\u001b[0m\u001b[0mvars\u001b[0m\u001b[1;33m(\u001b[0m\u001b[0mimportlib\u001b[0m\u001b[1;33m.\u001b[0m\u001b[0mimport_module\u001b[0m\u001b[1;33m(\u001b[0m\u001b[0mbackend_name\u001b[0m\u001b[1;33m)\u001b[0m\u001b[1;33m)\u001b[0m\u001b[1;33m)\u001b[0m\u001b[1;33m\u001b[0m\u001b[1;33m\u001b[0m\u001b[0m\n\u001b[0m\u001b[0;32m    269\u001b[0m \u001b[1;33m\u001b[0m\u001b[0m\n\u001b[0;32m    270\u001b[0m     \u001b[0mrequired_framework\u001b[0m \u001b[1;33m=\u001b[0m \u001b[0m_get_required_interactive_framework\u001b[0m\u001b[1;33m(\u001b[0m\u001b[0mbackend_mod\u001b[0m\u001b[1;33m)\u001b[0m\u001b[1;33m\u001b[0m\u001b[1;33m\u001b[0m\u001b[0m\n",
      "\u001b[1;32mE:\\Software\\anaconda3\\envs\\unitree_cv\\lib\\importlib\\__init__.py\u001b[0m in \u001b[0;36mimport_module\u001b[1;34m(name, package)\u001b[0m\n\u001b[0;32m    125\u001b[0m                 \u001b[1;32mbreak\u001b[0m\u001b[1;33m\u001b[0m\u001b[1;33m\u001b[0m\u001b[0m\n\u001b[0;32m    126\u001b[0m             \u001b[0mlevel\u001b[0m \u001b[1;33m+=\u001b[0m \u001b[1;36m1\u001b[0m\u001b[1;33m\u001b[0m\u001b[1;33m\u001b[0m\u001b[0m\n\u001b[1;32m--> 127\u001b[1;33m     \u001b[1;32mreturn\u001b[0m \u001b[0m_bootstrap\u001b[0m\u001b[1;33m.\u001b[0m\u001b[0m_gcd_import\u001b[0m\u001b[1;33m(\u001b[0m\u001b[0mname\u001b[0m\u001b[1;33m[\u001b[0m\u001b[0mlevel\u001b[0m\u001b[1;33m:\u001b[0m\u001b[1;33m]\u001b[0m\u001b[1;33m,\u001b[0m \u001b[0mpackage\u001b[0m\u001b[1;33m,\u001b[0m \u001b[0mlevel\u001b[0m\u001b[1;33m)\u001b[0m\u001b[1;33m\u001b[0m\u001b[1;33m\u001b[0m\u001b[0m\n\u001b[0m\u001b[0;32m    128\u001b[0m \u001b[1;33m\u001b[0m\u001b[0m\n\u001b[0;32m    129\u001b[0m \u001b[1;33m\u001b[0m\u001b[0m\n",
      "\u001b[1;32mE:\\Software\\anaconda3\\envs\\unitree_cv\\lib\\importlib\\_bootstrap.py\u001b[0m in \u001b[0;36m_gcd_import\u001b[1;34m(name, package, level)\u001b[0m\n",
      "\u001b[1;32mE:\\Software\\anaconda3\\envs\\unitree_cv\\lib\\importlib\\_bootstrap.py\u001b[0m in \u001b[0;36m_find_and_load\u001b[1;34m(name, import_)\u001b[0m\n",
      "\u001b[1;32mE:\\Software\\anaconda3\\envs\\unitree_cv\\lib\\importlib\\_bootstrap.py\u001b[0m in \u001b[0;36m_find_and_load_unlocked\u001b[1;34m(name, import_)\u001b[0m\n",
      "\u001b[1;32mE:\\Software\\anaconda3\\envs\\unitree_cv\\lib\\importlib\\_bootstrap.py\u001b[0m in \u001b[0;36m_call_with_frames_removed\u001b[1;34m(f, *args, **kwds)\u001b[0m\n",
      "\u001b[1;32mE:\\Software\\anaconda3\\envs\\unitree_cv\\lib\\importlib\\_bootstrap.py\u001b[0m in \u001b[0;36m_gcd_import\u001b[1;34m(name, package, level)\u001b[0m\n",
      "\u001b[1;32mE:\\Software\\anaconda3\\envs\\unitree_cv\\lib\\importlib\\_bootstrap.py\u001b[0m in \u001b[0;36m_find_and_load\u001b[1;34m(name, import_)\u001b[0m\n",
      "\u001b[1;32mE:\\Software\\anaconda3\\envs\\unitree_cv\\lib\\importlib\\_bootstrap.py\u001b[0m in \u001b[0;36m_find_and_load_unlocked\u001b[1;34m(name, import_)\u001b[0m\n",
      "\u001b[1;31mModuleNotFoundError\u001b[0m: No module named 'ipympl'"
     ]
    }
   ],
   "source": [
    "import numpy as np\n",
    "from scipy.linalg import solve\n",
    "import matplotlib.pyplot as plt\n",
    "%matplotlib widget"
   ]
  },
  {
   "cell_type": "code",
   "execution_count": 31,
   "id": "470da0ac-34f2-4639-8638-bad93a85257c",
   "metadata": {},
   "outputs": [],
   "source": [
    "class cptKp1d: #cubic polynomial trajectory\n",
    "    def __init__(self,t0,tf,q0,v0,qf,vf):\n",
    "        self.t0=t0\n",
    "        self.tf=tf\n",
    "        self.q0=q0\n",
    "        self.v0=v0\n",
    "        self.qf=qf\n",
    "        self.vf=vf\n",
    "        # Ax=b\n",
    "        self.A = np.array([[1, t0, t0**2, t0**3], [0, 1, 2*t0, 3*t0**2],[1, tf, tf**2, tf**3], [0, 1, 2*tf, 3*tf**2]])\n",
    "        self.b = np.array([q0,v0,qf,vf])\n",
    "        self.x = solve(self.A, self.b)\n",
    "    q  = lambda self,t : self.x[0]+self.x[1]*t+self.x[2]*t**2+self.x[3]*t**3\n",
    "    qd = lambda self,t : self.x[1]+2*self.x[2]*t+3*self.x[3]*t**2\n",
    "    qdd= lambda self,t : 2*self.x[2]*t+6*self.x[3]*t"
   ]
  },
  {
   "cell_type": "code",
   "execution_count": 3,
   "id": "41f8d4d3-a454-40d7-beb8-43198c0412c7",
   "metadata": {},
   "outputs": [],
   "source": [
    "class cptKp1d: #minimum jerk trajectory, with zero accel\n",
    "    def __init__(self,t0,tf,q0,v0,qf,vf):\n",
    "        self.t0=t0\n",
    "        self.tf=tf\n",
    "        self.q0=q0\n",
    "        self.v0=v0\n",
    "        self.qf=qf\n",
    "        self.vf=vf\n",
    "        a0=0\n",
    "        af=0\n",
    "        # Ax=b\n",
    "        self.A = np.array([\n",
    "            [1, t0, t0**2, t0**3, t0**4, t0**5], \n",
    "            [0, 1, 2*t0, 3*t0**2, 4*t0**3, 5*t0**4], \n",
    "            [0, 0, 2, 6*t0, 12*t0**2, 20*t0**3],\n",
    "            [1, tf, tf**2, tf**3, tf**4, tf**5], \n",
    "            [0, 1, 2*tf, 3*tf**2, 4*tf**3, 5*tf**4], \n",
    "            [0, 0, 2, 6*tf, 12*tf**2, 20*tf**3]])\n",
    "        self.b = np.array([q0,v0,a0,qf,vf,af])\n",
    "        self.x = solve(self.A, self.b)\n",
    "    q  = lambda self,t : self.x[0]+self.x[1]*t+self.x[2]*t**2+self.x[3]*t**3+self.x[4]*t**4+self.x[5]*t**5\n",
    "    qd = lambda self,t : self.x[1]+2*self.x[2]*t+3*self.x[3]*t**2+4*self.x[4]*t**3+5*self.x[5]*t**4\n",
    "    qdd= lambda self,t : 2*self.x[2]*t+6*self.x[3]*t+12*self.x[4]*t**2+20*self.x[5]*t**4\n",
    "    qddd=lambda self,t : 6*self.x[3]+24*self.x[4]*t+60*self.x[5]*t**2"
   ]
  },
  {
   "cell_type": "code",
   "execution_count": 475,
   "id": "1dbdc2a1-1dfc-4325-8d30-041e7e45a2a7",
   "metadata": {
    "tags": []
   },
   "outputs": [],
   "source": [
    "pt1=[cptKp1d(0,1.5,0,0,1,0), cptKp1d(0,1.5,0,0,0.1,0)]"
   ]
  },
  {
   "cell_type": "code",
   "execution_count": 36,
   "id": "ef84960d-1994-4cae-a25d-01ea0d0687db",
   "metadata": {
    "tags": []
   },
   "outputs": [
    {
     "ename": "NameError",
     "evalue": "name 'pt1' is not defined",
     "output_type": "error",
     "traceback": [
      "\u001b[0;31m---------------------------------------------------------------------------\u001b[0m",
      "\u001b[0;31mNameError\u001b[0m                                 Traceback (most recent call last)",
      "\u001b[0;32m<ipython-input-36-1fe12b832e70>\u001b[0m in \u001b[0;36m<module>\u001b[0;34m\u001b[0m\n\u001b[0;32m----> 1\u001b[0;31m \u001b[0mtvec\u001b[0m\u001b[0;34m=\u001b[0m \u001b[0mnp\u001b[0m\u001b[0;34m.\u001b[0m\u001b[0mlinspace\u001b[0m\u001b[0;34m(\u001b[0m\u001b[0mpt1\u001b[0m\u001b[0;34m[\u001b[0m\u001b[0;36m0\u001b[0m\u001b[0;34m]\u001b[0m\u001b[0;34m.\u001b[0m\u001b[0mt0\u001b[0m\u001b[0;34m,\u001b[0m\u001b[0mpt1\u001b[0m\u001b[0;34m[\u001b[0m\u001b[0;36m0\u001b[0m\u001b[0;34m]\u001b[0m\u001b[0;34m.\u001b[0m\u001b[0mtf\u001b[0m\u001b[0;34m,\u001b[0m\u001b[0;36m10\u001b[0m\u001b[0;34m)\u001b[0m\u001b[0;34m\u001b[0m\u001b[0;34m\u001b[0m\u001b[0m\n\u001b[0m\u001b[1;32m      2\u001b[0m \u001b[0;34m\u001b[0m\u001b[0m\n\u001b[1;32m      3\u001b[0m \u001b[0;34m\u001b[0m\u001b[0m\n\u001b[1;32m      4\u001b[0m \u001b[0mplt\u001b[0m\u001b[0;34m.\u001b[0m\u001b[0mclose\u001b[0m\u001b[0;34m(\u001b[0m\u001b[0;34m'all'\u001b[0m\u001b[0;34m)\u001b[0m\u001b[0;34m\u001b[0m\u001b[0;34m\u001b[0m\u001b[0m\n\u001b[1;32m      5\u001b[0m \u001b[0mfig\u001b[0m\u001b[0;34m,\u001b[0m \u001b[0max\u001b[0m \u001b[0;34m=\u001b[0m \u001b[0mplt\u001b[0m\u001b[0;34m.\u001b[0m\u001b[0msubplots\u001b[0m\u001b[0;34m(\u001b[0m\u001b[0mnrows\u001b[0m\u001b[0;34m=\u001b[0m\u001b[0;36m1\u001b[0m\u001b[0;34m,\u001b[0m\u001b[0mncols\u001b[0m\u001b[0;34m=\u001b[0m\u001b[0;36m3\u001b[0m\u001b[0;34m,\u001b[0m \u001b[0mfigsize\u001b[0m\u001b[0;34m=\u001b[0m\u001b[0;34m(\u001b[0m\u001b[0;36m12\u001b[0m\u001b[0;34m,\u001b[0m\u001b[0;36m4\u001b[0m\u001b[0;34m)\u001b[0m\u001b[0;34m)\u001b[0m\u001b[0;34m\u001b[0m\u001b[0;34m\u001b[0m\u001b[0m\n",
      "\u001b[0;31mNameError\u001b[0m: name 'pt1' is not defined"
     ]
    }
   ],
   "source": [
    "tvec= np.linspace(pt1[0].t0,pt1[0].tf,10)\n",
    "\n",
    "\n",
    "plt.close('all')\n",
    "fig, ax = plt.subplots(nrows=1,ncols=3, figsize=(12,4))\n",
    "thisAx = ax[0]\n",
    "thisAx.plot(pt1[1].q(tvec), pt1[0].q(tvec))\n",
    "thisAx.set_aspect(2)\n",
    "thisAx = ax[1]\n",
    "thisAx.plot(tvec, pt1[0].qd(tvec))\n",
    "thisAx = ax[2]\n",
    "thisAx.plot(tvec, pt1[0].qdd(tvec))\n",
    "fig.tight_layout()\n",
    "fig.show()"
   ]
  },
  {
   "cell_type": "code",
   "execution_count": 66,
   "id": "ff77b62c-8d49-465f-b91f-38fbe2bfb453",
   "metadata": {},
   "outputs": [
    {
     "name": "stdout",
     "output_type": "stream",
     "text": [
      "[0.0, 5.0, 6.0, 7.0, 8.0, 9.0, 10.0, 11.0, 12.0, 13.0, 18.0]\n"
     ]
    }
   ],
   "source": [
    "kp_t = [0.0, 5.0, 1.0, 1.0, 1.0, 1.0, 1.0, 1.0, 1.0, 1.0, 5.0] #dT\n",
    "kp_t_nn=[]\n",
    "for i in range(len(kp_t)):\n",
    "    kp_t_nn.append(np.sum((kp_t[:i+1])))\n",
    "kp_t=kp_t_nn.copy()\n",
    "print(kp_t)"
   ]
  },
  {
   "cell_type": "code",
   "execution_count": 4,
   "id": "88e263ed-0056-464d-949a-3b7e699f6f79",
   "metadata": {},
   "outputs": [],
   "source": [
    "# control path generation\n",
    "kp_x = [2.0, 0.0, 0.5, 1.0, 1.5, 2.0, 2.5, 3.0, 3.5, 4.0, 2.0]\n",
    "kp_y = [0.0, 1.0, 0.8, 1.0, 0.8, 1.0, 0.8, 1.0, 0.8, 1.0, 0.0]\n",
    "pd = 0.5\n",
    "kpd_x= [0.0, 0.0,  pd, 0.0,  pd, 0.0,  pd, 0.0,  pd, 0.0, 0.0] #start speed\n",
    "kpd_y= [0.0, 0.0, 0.0, 0.0, 0.0, 0.0, 0.0, 0.0, 0.0, 0.0, 0.0] #start speed\n",
    "dt = 1.0\n",
    "kp_t = [0.0, 1.0, 2.0, 3.0, 4.0, 5.0, 6.0, 7.0, 8.0, 9.0, 10.0] #dT\n",
    "\n",
    "kp_t = [0.0, 5.0, 1.0, 1.0, 1.0, 1.0, 1.0, 1.0, 1.0, 1.0, 6.0] #dT\n",
    "kp_t_nn=[]\n",
    "for i in range(len(kp_t)):\n",
    "    kp_t_nn.append(np.sum((kp_t[:i+1])))\n",
    "kp_t=kp_t_nn.copy()\n",
    "\n",
    "\n",
    "gasSrc_x = [0.0, 1.0, 2.0, 3.0, 4.0] \n",
    "gasSrc_y = [1.2, 1.2, 1.2, 1.2, 1.2] \n",
    "#t0,tf,q0,v0,qf,vf\n",
    "planning = []\n",
    "for i in range(len(kp_x)-1):\n",
    "    planning.append([cptKp1d(kp_t[i],kp_t[i+1],kp_x[i],kpd_x[i],kp_x[i+1],kpd_x[i+1]), cptKp1d(kp_t[i],kp_t[i+1],kp_y[i],kpd_y[i],kp_y[i+1],kpd_y[i+1])])\n",
    "limd_x = 0.5\n",
    "limd_y = 0.9"
   ]
  },
  {
   "cell_type": "code",
   "execution_count": 6,
   "id": "4e28e67a-7b61-4d17-9d14-74050b2ecdb3",
   "metadata": {},
   "outputs": [
    {
     "name": "stderr",
     "output_type": "stream",
     "text": [
      "C:\\Users\\Jonathan\\AppData\\Local\\Temp/ipykernel_13772/1569674982.py:51: UserWarning: Matplotlib is currently using module://ipympl.backend_nbagg, which is a non-GUI backend, so cannot show the figure.\n",
      "  fig.show()\n"
     ]
    },
    {
     "data": {
      "image/png": "[encoded data removed]",
      "text/plain": [
       "<Figure size 432x288 with 3 Axes>"
      ]
     },
     "metadata": {
      "needs_background": "light"
     },
     "output_type": "display_data"
    }
   ],
   "source": [
    "from matplotlib.ticker import (AutoMinorLocator, MultipleLocator)\n",
    "plt.close('all')\n",
    "fig = plt.figure() #constrained_layout=True\n",
    "gs = fig.add_gridspec(2, 2)\n",
    "ax=[]\n",
    "ax.append(fig.add_subplot(gs[0, :]))\n",
    "ax.append(fig.add_subplot(gs[1, 0]))\n",
    "ax.append(fig.add_subplot(gs[1, 1]))\n",
    "#fig, ax = plt.subplots(nrows=1,ncols=3, figsize=(12,4))\n",
    "\n",
    "for i in range(len(planning)):\n",
    "    color=[i/len(planning),0,0]\n",
    "    tvec = np.linspace(planning[i][0].t0,planning[i][0].tf,100)\n",
    "    thisAx = ax[0]\n",
    "    thisAx.plot(planning[i][0].q(tvec), planning[i][1].q(tvec), color=color)\n",
    "    thisAx.text(kp_x[i], kp_y[i], '  '+str(i))\n",
    "    thisAx = ax[1]\n",
    "    thisAx.plot(tvec, planning[i][0].qd(tvec), color=color)\n",
    "    #thisAx.plot(tvec, planning[i][1].qd(tvec), color=color)\n",
    "    thisAx = ax[2]\n",
    "    thisAx.plot(tvec, planning[i][1].qd(tvec), color=color)\n",
    "    #thisAx.plot(tvec, planning[i][0].qdd(tvec), color=color)\n",
    "\n",
    "thisAx = ax[0]\n",
    "\n",
    "thisAx.plot(kp_x, kp_y, 'ro')\n",
    "thisAx.text(kp_x[-1], kp_y[-1], '     '+str(i+1))\n",
    "thisAx.plot(gasSrc_x, gasSrc_y, 'bx')\n",
    "thisAx.grid()\n",
    "thisAx.xaxis.set_major_locator(MultipleLocator(0.2))\n",
    "thisAx.yaxis.set_major_locator(MultipleLocator(0.2))\n",
    "thisAx.xaxis.set_tick_params(rotation=90)\n",
    "thisAx.set_aspect(1)\n",
    "\n",
    "thisAx.set_title(\"Position/odometry\")\n",
    "thisAx.set_xlabel('x (m)')\n",
    "thisAx.set_ylabel('y (m)')\n",
    "thisAx = ax[1]\n",
    "thisAx.set_title(\"X Velocity (Control)\")\n",
    "thisAx.set_xlabel('t (s)')\n",
    "thisAx.plot([kp_t[0], kp_t[-1]], [0,0], 'k--', alpha=0.2)\n",
    "thisAx.plot([kp_t[0], kp_t[-1]], [ limd_x, limd_x], 'k--', alpha=0.2)\n",
    "thisAx.plot([kp_t[0], kp_t[-1]], [-limd_x,-limd_x], 'k--', alpha=0.2)\n",
    "thisAx = ax[2]\n",
    "thisAx.set_title(\"Y Velocity (Control)\")\n",
    "thisAx.set_xlabel('t (s)')\n",
    "thisAx.plot([kp_t[0], kp_t[-1]], [0,0], 'k--', alpha=0.2)\n",
    "thisAx.plot([kp_t[0], kp_t[-1]], [ limd_y, limd_y], 'k--', alpha=0.2)\n",
    "thisAx.plot([kp_t[0], kp_t[-1]], [-limd_y,-limd_y], 'k--', alpha=0.2)\n",
    "fig.tight_layout()\n",
    "fig.show()"
   ]
  },
  {
   "cell_type": "code",
   "execution_count": 5,
   "id": "0baaa85c-03b3-4ade-bf48-b033a30f5ba0",
   "metadata": {},
   "outputs": [
    {
     "name": "stdout",
     "output_type": "stream",
     "text": [
      "a0 + a1*t + a2*t**2 + a3*t**3 + a4*t**4 + a5*t**5\n",
      "a1 + 2*a2*t + 3*a3*t**2 + 4*a4*t**3 + 5*a5*t**4\n",
      "2*a2 + 6*a3*t + 12*a4*t**2 + 20*a5*t**3\n"
     ]
    }
   ],
   "source": [
    "import sympy as sp\n",
    "noOrder,noDiff = 6, 3 #jerk, acceleration\n",
    "a = sp.symbols('a:'+str(noOrder))\n",
    "t = sp.symbols('t')\n",
    "\n",
    "expression=0\n",
    "for i,aa in enumerate(a):\n",
    "    expression+=aa*(t**i)\n",
    "print(expression)\n",
    "for i in range(2):\n",
    "    expression = expression.diff(t)  \n",
    "    print(expression)\n",
    "expression = sp.Poly(expression, t)"
   ]
  },
  {
   "cell_type": "code",
   "execution_count": 241,
   "id": "ef2e67cf-cbc0-4902-80b5-faf3893e3d10",
   "metadata": {},
   "outputs": [
    {
     "name": "stdout",
     "output_type": "stream",
     "text": [
      "[[1 1 1 1 1 1]\n",
      " [0 1 2 3 4 5]\n",
      " [0 0 2 6 12 20]]\n"
     ]
    }
   ],
   "source": [
    "import sympy as sp\n",
    "noOrder,noDiff = 6, 3 #jerk, acceleration\n",
    "t = sp.symbols('t')\n",
    "a = sp.symbols('a:'+str(noOrder))\n",
    "\n",
    "expression=0\n",
    "for i,aa in enumerate(a):\n",
    "    expression+=(t**i)\n",
    "#print(expression)\n",
    "A = []\n",
    "A.append(sp.Poly(expression, t).coeffs())\n",
    "for i in range(noDiff-1):\n",
    "    expression = expression.diff(t)  \n",
    "    #print(expression)\n",
    "    subLst = sp.Poly(expression, t).coeffs()\n",
    "    for zero in range(i+1): #zero padding\n",
    "        subLst=subLst+[0]\n",
    "    subLst.reverse()\n",
    "    A.append(subLst)\n",
    "A=np.array(A)\n",
    "print(A)"
   ]
  },
  {
   "cell_type": "code",
   "execution_count": 242,
   "id": "cca3aa25-41e1-4bed-ae25-fbfdd3bc2c7c",
   "metadata": {},
   "outputs": [
    {
     "name": "stdout",
     "output_type": "stream",
     "text": [
      "[[1 t t**2 t**3 t**4 t**5]\n",
      " [0 1 t t**2 t**3 t**4]\n",
      " [0 0 1 t t**2 t**3]]\n"
     ]
    }
   ],
   "source": [
    "t_matrix = []\n",
    "t_vector = []\n",
    "\n",
    "for j in range(noDiff):\n",
    "    t_vector=[]\n",
    "    for i in range(j):\n",
    "        t_vector.append(0)\n",
    "    for i in range(noOrder-j):\n",
    "        t_vector.append(t**i)\n",
    "    t_matrix.append(t_vector)\n",
    "t_matrix=np.array(t_matrix)\n",
    "print(t_matrix)"
   ]
  },
  {
   "cell_type": "code",
   "execution_count": 243,
   "id": "a05506b1-2efd-492d-b06a-73b76a7a9873",
   "metadata": {},
   "outputs": [
    {
     "data": {
      "text/latex": [
       "$\\displaystyle \\left[\\begin{matrix}1 & t_{0} & t_{0}^{2} & t_{0}^{3} & t_{0}^{4} & t_{0}^{5}\\\\0 & 1 & 2 t_{0} & 3 t_{0}^{2} & 4 t_{0}^{3} & 5 t_{0}^{4}\\\\0 & 0 & 2 & 6 t_{0} & 12 t_{0}^{2} & 20 t_{0}^{3}\\\\1 & t_{f} & t_{f}^{2} & t_{f}^{3} & t_{f}^{4} & t_{f}^{5}\\\\0 & 1 & 2 t_{f} & 3 t_{f}^{2} & 4 t_{f}^{3} & 5 t_{f}^{4}\\\\0 & 0 & 2 & 6 t_{f} & 12 t_{f}^{2} & 20 t_{f}^{3}\\end{matrix}\\right]$"
      ],
      "text/plain": [
       "[[1, t_0, t_0**2, t_0**3, t_0**4, t_0**5], [0, 1, 2*t_0, 3*t_0**2, 4*t_0**3, 5*t_0**4], [0, 0, 2, 6*t_0, 12*t_0**2, 20*t_0**3], [1, t_f, t_f**2, t_f**3, t_f**4, t_f**5], [0, 1, 2*t_f, 3*t_f**2, 4*t_f**3, 5*t_f**4], [0, 0, 2, 6*t_f, 12*t_f**2, 20*t_f**3]]"
      ]
     },
     "execution_count": 243,
     "metadata": {},
     "output_type": "execute_result"
    }
   ],
   "source": [
    "t0=sp.symbols('t_0')\n",
    "tf=sp.symbols('t_f')\n",
    "sp.Array(np.concatenate((sp.Array(A*t_matrix).replace(t,t0), sp.Array(A*t_matrix).replace(t,tf)), axis=0))"
   ]
  },
  {
   "cell_type": "code",
   "execution_count": 479,
   "id": "be516356-a009-4ef2-a46c-611526f0d325",
   "metadata": {},
   "outputs": [],
   "source": [
    "# Minimum jerk trajectory\n",
    "def mjtg(current, setpoint, frequency, move_time):\n",
    "    trajectory = []\n",
    "    trajectory_derivative = []\n",
    "    timefreq = int(move_time * frequency)\n",
    "\n",
    "    for time in range(1, timefreq):\n",
    "        trajectory.append(\n",
    "            current + (setpoint - current) *\n",
    "            (10.0 * (time/timefreq)**3\n",
    "             - 15.0 * (time/timefreq)**4\n",
    "             + 6.0 * (time/timefreq)**5))\n",
    "\n",
    "        trajectory_derivative.append(\n",
    "            frequency * (1.0/timefreq) * (setpoint - current) *\n",
    "            (30.0 * (time/timefreq)**2.0\n",
    "             - 60.0 * (time/timefreq)**3.0\n",
    "             + 30.0 * (time/timefreq)**4.0))\n",
    "\n",
    "    return np.array(trajectory), np.array(trajectory_derivative)"
   ]
  },
  {
   "cell_type": "code",
   "execution_count": 481,
   "id": "2e5c22e2-cb62-4329-bbcf-e41e70fa737c",
   "metadata": {},
   "outputs": [
    {
     "data": {
      "application/vnd.jupyter.widget-view+json": {
       "model_id": "9e02f0b8f38746ca96c74465bdd8bb45",
       "version_major": 2,
       "version_minor": 0
      },
      "text/plain": [
       "Canvas(toolbar=Toolbar(toolitems=[('Home', 'Reset original view', 'home', 'home'), ('Back', 'Back to previous …"
      ]
     },
     "metadata": {},
     "output_type": "display_data"
    }
   ],
   "source": [
    "# Set up and calculate trajectory.\n",
    "current = 0\n",
    "setpoint = 1\n",
    "frequency = 100\n",
    "time = 3\n",
    "\n",
    "traj, traj_vel = mjtg(current, setpoint, frequency, time)\n",
    "\n",
    "# Create plot.\n",
    "xaxis = [i / frequency for i in range(1, int(time * frequency))]\n",
    "\n",
    "plt.close('all')\n",
    "fig, ax = plt.subplots(nrows=1,ncols=1, figsize=(4,4))\n",
    "thisAx = ax\n",
    "\n",
    "thisAx.plot(xaxis, traj)\n",
    "thisAx.plot(xaxis, traj_vel)\n",
    "# thisAx.title(\"Minimum jerk trajectory\")\n",
    "# thisAx.xlabel(\"Time [s]\")\n",
    "# thisAx.ylabel(\"Angle [deg] and angular velocity [deg/s]\")\n",
    "thisAx.legend(['pos', 'vel'])\n",
    "fig.tight_layout()\n",
    "fig.show()"
   ]
  },
  {
   "cell_type": "code",
   "execution_count": 483,
   "id": "ab429105-d831-4650-83fc-d5fa0b00a458",
   "metadata": {},
   "outputs": [
    {
     "data": {
      "application/vnd.jupyter.widget-view+json": {
       "model_id": "6f864c095f7d4a57b013922c49880dff",
       "version_major": 2,
       "version_minor": 0
      },
      "text/plain": [
       "Canvas(toolbar=Toolbar(toolitems=[('Home', 'Reset original view', 'home', 'home'), ('Back', 'Back to previous …"
      ]
     },
     "metadata": {},
     "output_type": "display_data"
    }
   ],
   "source": [
    "q_x, qd_x = mjtg(0, 1, frequency, time)\n",
    "q_y, qd_y = mjtg(0, 0.5, frequency, time)\n",
    "\n",
    "plt.close('all')\n",
    "fig, ax = plt.subplots(nrows=1,ncols=2, figsize=(8,4))\n",
    "thisAx = ax[0]\n",
    "thisAx.plot(q_x, q_y)\n",
    "thisAx.set_aspect(1)\n",
    "\n",
    "thisAx = ax[1]\n",
    "thisAx.plot(qd_x)\n",
    "thisAx.plot(qd_y)\n",
    "thisAx.plot(np.sqrt(qd_x**2+qd_y**2))\n",
    "fig.tight_layout()\n",
    "fig.show()"
   ]
  },
  {
   "cell_type": "code",
   "execution_count": 291,
   "id": "1aa2eaa1-17b2-4f96-89e2-e2f780ad1ba8",
   "metadata": {},
   "outputs": [
    {
     "data": {
      "text/plain": [
       "list"
      ]
     },
     "execution_count": 291,
     "metadata": {},
     "output_type": "execute_result"
    }
   ],
   "source": [
    "type()"
   ]
  }
 ],
 "metadata": {
  "kernelspec": {
   "display_name": "Python 3",
   "language": "python",
   "name": "python3"
  },
  "language_info": {
   "codemirror_mode": {
    "name": "ipython",
    "version": 3
   },
   "file_extension": ".py",
   "mimetype": "text/x-python",
   "name": "python",
   "nbconvert_exporter": "python",
   "pygments_lexer": "ipython3",
   "version": "3.8.12"
  }
 },
 "nbformat": 4,
 "nbformat_minor": 5
}
