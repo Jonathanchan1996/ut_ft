{
 "cells": [
  {
   "cell_type": "markdown",
   "id": "02509b35-48d1-41f5-bd39-c4e536058eb4",
   "metadata": {},
   "source": [
    "# HKUST, ECE, FANLAB, Unitree Robot Dog project\n",
    "## Author: Jonathan Chan"
   ]
  },
  {
   "cell_type": "code",
   "execution_count": 1,
   "id": "3137de25-59ce-4d43-9223-00500baed43a",
   "metadata": {},
   "outputs": [],
   "source": [
    "import socket\n",
    "import time\n",
    "import json\n",
    "import numpy as np\n",
    "from IPython.display import clear_output\n",
    "#HOST = '192.168.123.162'# my own address, need to update in c++\n",
    "#PORT = 4141 #Dummy, init used\n",
    "class unitreeController():\n",
    "    def __init__(self, host, port):\n",
    "        self.host = host\n",
    "        self.port = port\n",
    "        self.addr = (self.host, self.port)\n",
    "        self.sock = socket.socket(socket.AF_INET, socket.SOCK_DGRAM)\n",
    "        self.sock.bind((self.host, self.port))\n",
    "        self.sock.settimeout(5)\n",
    "        self.imu = 0 # It will be a json packet\n",
    "        self.rawData = \" \"\n",
    "        self.cmd = {}\n",
    "        self.cmd['mode'] = 1\n",
    "        self.cmd['forwardSpeed'] = 0.0\n",
    "        self.cmd['sideSpeed'] = 0.0\n",
    "        self.cmd['rotateSpeed'] = 0.0\n",
    "        #Disabled in c++ side\n",
    "        self.cmd['bodyHeight'] = 0.0\n",
    "        self.cmd['roll'] = 0.0\n",
    "        self.cmd['pitch'] = 0.0\n",
    "        self.cmd['yaw'] = 0.0\n",
    "        #self.cmd = json.dumps(self.cmd)\n",
    "    def __del__(self):\n",
    "        self.sock.close()\n",
    "    def getState(self): #Get IMU data\n",
    "        self.rawData, self.addr = self.sock.recvfrom(1024)\n",
    "        #print(self.rawData)\n",
    "        self.imu = json.loads(self.rawData.decode())\n",
    "        #print(self.imu)\n",
    "    def setCmd(self): #Run to send command to unitree\n",
    "        cmdMsg = \"{mode},{forwardSpeed},{sideSpeed},{rotateSpeed},{bodyHeight},{roll},{pitch},{yaw}\"\\\n",
    "        .format(mode=int(self.cmd['mode']),forwardSpeed=self.cmd['forwardSpeed'],sideSpeed=self.cmd['sideSpeed'],rotateSpeed=self.cmd['rotateSpeed'],bodyHeight=self.cmd['bodyHeight'],roll=self.cmd['roll'],pitch=self.cmd['pitch'],yaw=self.cmd['yaw'])\n",
    "        self.sock.sendto(cmdMsg.encode(), self.addr)\n",
    "\n",
    "class rawPath():\n",
    "    def __init__(self):\n",
    "        self.loc_x=[] #local\n",
    "        self.loc_y=[]\n",
    "        self.loc_yaw=[]\n",
    "        self.glo_x=[] #global\n",
    "        self.glo_y=[]\n",
    "        self.glo_yaw=[]\n",
    "        self.err_x=[]\n",
    "        self.err_y=[]\n",
    "        self.err_yaw=[]\n",
    "        self.t=[]\n",
    "    def record(self, x, y, yaw, t=0):\n",
    "        self.loc_x.append(x)\n",
    "        self.loc_y.append(y)\n",
    "        self.loc_yaw.append(yaw)\n",
    "        self.t.append(t)\n",
    "    def recordErr(self, x, y, yaw, t=0):\n",
    "        self.err_x.append(x)\n",
    "        self.err_y.append(y)\n",
    "        self.err_yaw.append(yaw)\n",
    "\n",
    "class setPoint:\n",
    "     def __init__(self, x=0, y=0, yaw=0):\n",
    "            self.x=x #Local frame\n",
    "            self.y=y #local frame\n",
    "            self.yaw=yaw #Global frame\n",
    "\n",
    "def speedLim(x, lim):\n",
    "    return np.sign(x)*np.min([np.abs(x), lim])"
   ]
  },
  {
   "cell_type": "code",
   "execution_count": 148,
   "id": "1f843e56-89b4-4669-abdc-97c49a10a98c",
   "metadata": {},
   "outputs": [
    {
     "ename": "NameError",
     "evalue": "name 'myUt' is not defined",
     "output_type": "error",
     "traceback": [
      "\u001b[1;31m---------------------------------------------------------------------------\u001b[0m",
      "\u001b[1;31mNameError\u001b[0m                                 Traceback (most recent call last)",
      "\u001b[1;32m~\\AppData\\Local\\Temp/ipykernel_25484/2925417758.py\u001b[0m in \u001b[0;36m<module>\u001b[1;34m\u001b[0m\n\u001b[1;32m----> 1\u001b[1;33m \u001b[1;32mdel\u001b[0m \u001b[0mmyUt\u001b[0m\u001b[1;33m\u001b[0m\u001b[1;33m\u001b[0m\u001b[0m\n\u001b[0m\u001b[0;32m      2\u001b[0m \u001b[0mmyUt\u001b[0m \u001b[1;33m=\u001b[0m \u001b[1;32mNone\u001b[0m\u001b[1;33m\u001b[0m\u001b[1;33m\u001b[0m\u001b[0m\n",
      "\u001b[1;31mNameError\u001b[0m: name 'myUt' is not defined"
     ]
    }
   ],
   "source": [
    "del myUt\n",
    "myUt = None"
   ]
  },
  {
   "cell_type": "code",
   "execution_count": 6,
   "id": "b4ebd747-5cfb-4ed6-abd8-a069470ba907",
   "metadata": {},
   "outputs": [],
   "source": []
  },
  {
   "cell_type": "code",
   "execution_count": 12,
   "id": "9d7f0bd6-af1e-4a5a-822d-ad9e9b49756d",
   "metadata": {
    "tags": []
   },
   "outputs": [],
   "source": [
    "myUt = unitreeController('192.168.123.162', 3114)\n",
    "for i in range(50):\n",
    "    myUt.getState()\n",
    "    #print(myUt.imu['pos'])\n",
    "    myUt.cmd['mode']=2\n",
    "    myUt.cmd['forwardSpeed']=-0.5\n",
    "    myUt.setCmd()\n",
    "    time.sleep(0.01)\n",
    "for i in range(50):\n",
    "    myUt.getState()\n",
    "    #print(myUt.imu)\n",
    "    myUt.cmd['mode']=2\n",
    "    myUt.cmd['forwardSpeed']=0.1\n",
    "    myUt.setCmd()\n",
    "    time.sleep(0.01)\n",
    "\n",
    "del myUt"
   ]
  },
  {
   "cell_type": "code",
   "execution_count": 2,
   "id": "fe383cd6-193b-46c7-86f5-2647cdb28717",
   "metadata": {},
   "outputs": [
    {
     "ename": "OSError",
     "evalue": "[WinError 10049] The requested address is not valid in its context",
     "output_type": "error",
     "traceback": [
      "\u001b[1;31m---------------------------------------------------------------------------\u001b[0m",
      "\u001b[1;31mOSError\u001b[0m                                   Traceback (most recent call last)",
      "\u001b[1;32m~\\AppData\\Local\\Temp/ipykernel_7396/3757640029.py\u001b[0m in \u001b[0;36m<module>\u001b[1;34m\u001b[0m\n\u001b[1;32m----> 1\u001b[1;33m \u001b[0mmyUt\u001b[0m \u001b[1;33m=\u001b[0m \u001b[0munitreeController\u001b[0m\u001b[1;33m(\u001b[0m\u001b[1;34m'192.168.123.162'\u001b[0m\u001b[1;33m,\u001b[0m \u001b[1;36m3114\u001b[0m\u001b[1;33m)\u001b[0m\u001b[1;33m\u001b[0m\u001b[1;33m\u001b[0m\u001b[0m\n\u001b[0m\u001b[0;32m      2\u001b[0m \u001b[0mmyRawPath\u001b[0m \u001b[1;33m=\u001b[0m \u001b[0mrawPath\u001b[0m\u001b[1;33m(\u001b[0m\u001b[1;33m)\u001b[0m\u001b[1;33m\u001b[0m\u001b[1;33m\u001b[0m\u001b[0m\n\u001b[0;32m      3\u001b[0m \u001b[0mmySp\u001b[0m \u001b[1;33m=\u001b[0m \u001b[0msetPoint\u001b[0m\u001b[1;33m(\u001b[0m\u001b[1;33m-\u001b[0m\u001b[1;36m3.0\u001b[0m\u001b[1;33m,\u001b[0m\u001b[1;33m-\u001b[0m\u001b[1;36m2.0\u001b[0m\u001b[1;33m,\u001b[0m\u001b[1;36m0\u001b[0m\u001b[1;33m)\u001b[0m\u001b[1;33m;\u001b[0m \u001b[1;31m#-0.9*np.pi\u001b[0m\u001b[1;33m\u001b[0m\u001b[1;33m\u001b[0m\u001b[0m\n\u001b[0;32m      4\u001b[0m \u001b[1;33m\u001b[0m\u001b[0m\n\u001b[0;32m      5\u001b[0m \u001b[1;32mfor\u001b[0m \u001b[0mi\u001b[0m \u001b[1;32min\u001b[0m \u001b[0mrange\u001b[0m\u001b[1;33m(\u001b[0m\u001b[1;36m200\u001b[0m\u001b[1;33m)\u001b[0m\u001b[1;33m:\u001b[0m\u001b[1;33m\u001b[0m\u001b[1;33m\u001b[0m\u001b[0m\n",
      "\u001b[1;32m~\\AppData\\Local\\Temp/ipykernel_7396/3766191573.py\u001b[0m in \u001b[0;36m__init__\u001b[1;34m(self, host, port)\u001b[0m\n\u001b[0;32m     12\u001b[0m         \u001b[0mself\u001b[0m\u001b[1;33m.\u001b[0m\u001b[0maddr\u001b[0m \u001b[1;33m=\u001b[0m \u001b[1;33m(\u001b[0m\u001b[0mself\u001b[0m\u001b[1;33m.\u001b[0m\u001b[0mhost\u001b[0m\u001b[1;33m,\u001b[0m \u001b[0mself\u001b[0m\u001b[1;33m.\u001b[0m\u001b[0mport\u001b[0m\u001b[1;33m)\u001b[0m\u001b[1;33m\u001b[0m\u001b[1;33m\u001b[0m\u001b[0m\n\u001b[0;32m     13\u001b[0m         \u001b[0mself\u001b[0m\u001b[1;33m.\u001b[0m\u001b[0msock\u001b[0m \u001b[1;33m=\u001b[0m \u001b[0msocket\u001b[0m\u001b[1;33m.\u001b[0m\u001b[0msocket\u001b[0m\u001b[1;33m(\u001b[0m\u001b[0msocket\u001b[0m\u001b[1;33m.\u001b[0m\u001b[0mAF_INET\u001b[0m\u001b[1;33m,\u001b[0m \u001b[0msocket\u001b[0m\u001b[1;33m.\u001b[0m\u001b[0mSOCK_DGRAM\u001b[0m\u001b[1;33m)\u001b[0m\u001b[1;33m\u001b[0m\u001b[1;33m\u001b[0m\u001b[0m\n\u001b[1;32m---> 14\u001b[1;33m         \u001b[0mself\u001b[0m\u001b[1;33m.\u001b[0m\u001b[0msock\u001b[0m\u001b[1;33m.\u001b[0m\u001b[0mbind\u001b[0m\u001b[1;33m(\u001b[0m\u001b[1;33m(\u001b[0m\u001b[0mself\u001b[0m\u001b[1;33m.\u001b[0m\u001b[0mhost\u001b[0m\u001b[1;33m,\u001b[0m \u001b[0mself\u001b[0m\u001b[1;33m.\u001b[0m\u001b[0mport\u001b[0m\u001b[1;33m)\u001b[0m\u001b[1;33m)\u001b[0m\u001b[1;33m\u001b[0m\u001b[1;33m\u001b[0m\u001b[0m\n\u001b[0m\u001b[0;32m     15\u001b[0m         \u001b[0mself\u001b[0m\u001b[1;33m.\u001b[0m\u001b[0msock\u001b[0m\u001b[1;33m.\u001b[0m\u001b[0msettimeout\u001b[0m\u001b[1;33m(\u001b[0m\u001b[1;36m5\u001b[0m\u001b[1;33m)\u001b[0m\u001b[1;33m\u001b[0m\u001b[1;33m\u001b[0m\u001b[0m\n\u001b[0;32m     16\u001b[0m         \u001b[0mself\u001b[0m\u001b[1;33m.\u001b[0m\u001b[0mimu\u001b[0m \u001b[1;33m=\u001b[0m \u001b[1;36m0\u001b[0m \u001b[1;31m# It will be a json packet\u001b[0m\u001b[1;33m\u001b[0m\u001b[1;33m\u001b[0m\u001b[0m\n",
      "\u001b[1;31mOSError\u001b[0m: [WinError 10049] The requested address is not valid in its context"
     ]
    }
   ],
   "source": [
    "myUt = unitreeController('192.168.123.162', 3114)\n",
    "myRawPath = rawPath()\n",
    "mySp = setPoint(-3.0,-2.0,0); #-0.9*np.pi\n",
    "\n",
    "for i in range(200):\n",
    "    myUt.getState()\n",
    "    #myUt.imu['rpy'][2] = myUt.imu['rpy'][2]+np.pi #0~2pi\n",
    "    myRawPath.record(myUt.imu['pos'][0], myUt.imu['pos'][1], myUt.imu['rpy'][2])\n",
    "    \n",
    "    ctrl_fs = 2*(mySp.x-myUt.imu['pos'][0])\n",
    "    ctrl_ss = 3*(mySp.y-myUt.imu['pos'][1]) # + is left, #- is right\n",
    "    ctrl_rs = 0  # + is anti clk, #- is clk, \n",
    "    yaw_err = (mySp.yaw-myUt.imu['rpy'][2]) #Rad\n",
    "    ctrl_rs = 2*(yaw_err) \n",
    "    if np.abs(yaw_err)>np.pi:\n",
    "        ctrl_rs = -(ctrl_rs)#+3.9*np.pi\n",
    "    myRawPath.recordErr(0,0,ctrl_rs)\n",
    "    myUt.cmd['mode']=2\n",
    "    myUt.cmd['forwardSpeed'] = speedLim(ctrl_fs, 0.9) \n",
    "    myUt.cmd['sideSpeed']    = speedLim(ctrl_ss, 0.8) \n",
    "    myUt.cmd['rotateSpeed']  = speedLim(ctrl_rs, 0.8) \n",
    "    myUt.setCmd()\n",
    "    time.sleep(0.01)\n",
    "    clear_output(wait=True)\n",
    "    \n",
    "for i in range(5): #Stop command\n",
    "    myRawPath.record(myUt.imu['pos'][0], myUt.imu['pos'][1], myUt.imu['rpy'][2])\n",
    "    myUt.cmd['mode'] = 1\n",
    "    myUt.cmd['forwardSpeed'] = 0\n",
    "    myUt.cmd['sideSpeed'] = 0\n",
    "    myUt.setCmd()\n",
    "    time.sleep(0.01)\n",
    "myRawPath.glo_x = myRawPath.loc_x*np.cos(myRawPath.loc_yaw)+myRawPath.loc_y*np.sin(myRawPath.loc_yaw)\n",
    "myRawPath.glo_y = myRawPath.loc_x*np.sin(myRawPath.loc_yaw)+myRawPath.loc_y*np.cos(myRawPath.loc_yaw)\n",
    "del myUt"
   ]
  },
  {
   "cell_type": "code",
   "execution_count": 237,
   "id": "e36f0575-133a-4b94-b6d3-5f0a7a85f9bc",
   "metadata": {},
   "outputs": [
    {
     "data": {
      "text/plain": [
       "(-5.0, 5.0)"
      ]
     },
     "execution_count": 237,
     "metadata": {},
     "output_type": "execute_result"
    },
    {
     "data": {
      "image/png": "[encoded data removed]",
      "text/plain": [
       "<Figure size 864x288 with 4 Axes>"
      ]
     },
     "metadata": {
      "needs_background": "light"
     },
     "output_type": "display_data"
    }
   ],
   "source": [
    "import matplotlib.pyplot as plt\n",
    "from matplotlib.ticker import (AutoMinorLocator, MultipleLocator)\n",
    "\n",
    "plt.close('all')\n",
    "fig = plt.figure(figsize=(12,4)) #constrained_layout=True\n",
    "gs = fig.add_gridspec(3, 2)\n",
    "ax=[]\n",
    "ax.append(fig.add_subplot(gs[0, 0]))\n",
    "ax.append(fig.add_subplot(gs[1, 0]))\n",
    "ax.append(fig.add_subplot(gs[2, 0]))\n",
    "ax.append(fig.add_subplot(gs[:, 1]))\n",
    "thisAx = ax[0]\n",
    "thisAx.plot(myRawPath.loc_x)\n",
    "thisAx.set_ylabel('x (m)')\n",
    "thisAx = ax[1]\n",
    "thisAx.plot(myRawPath.loc_y)\n",
    "thisAx.set_ylabel('y (m)')\n",
    "thisAx = ax[2]\n",
    "#thisAx.plot(np.divide(myRawPath.loc_yaw,np.pi))\n",
    "thisAx.plot(np.divide(myRawPath.err_yaw,1))\n",
    "thisAx.set_ylabel('Yaw (pi rad)')\n",
    "thisAx = ax[3]\n",
    "thisAx.plot(myRawPath.glo_x,myRawPath.glo_y)\n",
    "thisAx.plot(myRawPath.glo_x[-1],myRawPath.glo_y[-1], 'rx')\n",
    "thisAx.text(myRawPath.glo_x[-1],myRawPath.glo_y[-1], '  end')\n",
    "thisAx.plot(myRawPath.glo_x[ 0],myRawPath.glo_y[ 0], 'ro')\n",
    "thisAx.text(myRawPath.glo_x[ 0],myRawPath.glo_y[ 0], '  start')\n",
    "thisAx.set_title(\"Calculated Position/odometry\")\n",
    "thisAx.set_xlabel('x (m)')\n",
    "thisAx.set_ylabel('y (m)')\n",
    "thisAx.set_aspect(1)\n",
    "xlim=5\n",
    "ylim=5\n",
    "thisAx.set_xlim([-xlim,xlim])\n",
    "thisAx.set_ylim([-ylim,ylim])\n",
    "\n",
    "#fig.savefig(\"setpoint_xy7.png\")"
   ]
  },
  {
   "cell_type": "code",
   "execution_count": 7,
   "id": "51bb0823-c225-4679-b5f9-e9e455f4336c",
   "metadata": {},
   "outputs": [
    {
     "name": "stdout",
     "output_type": "stream",
     "text": [
      "[0.00672555, 0.00266126]\n"
     ]
    }
   ],
   "source": [
    "myUt = unitreeController('192.168.123.162', 3114)\n",
    "myUt.getState()\n",
    "print(myUt.imu['pos'])\n",
    "del myUt"
   ]
  },
  {
   "cell_type": "code",
   "execution_count": 14,
   "id": "c1376663-2802-46f4-93c2-6599febb4d1e",
   "metadata": {},
   "outputs": [],
   "source": [
    "import numpy as np\n",
    "from scipy.linalg import solve\n",
    "import matplotlib.pyplot as plt\n",
    "#matplotlib widget\n",
    "\n",
    "class cptKp1d: #cubic polynomial trajectory\n",
    "    def __init__(self,t0,tf,q0,v0,qf,vf):\n",
    "        self.t0=t0\n",
    "        self.tf=tf\n",
    "        self.q0=q0\n",
    "        self.v0=v0\n",
    "        self.qf=qf\n",
    "        self.vf=vf\n",
    "        # Ax=b\n",
    "        self.A = np.array([[1, t0, t0**2, t0**3], [0, 1, 2*t0, 3*t0**2],[1, tf, tf**2, tf**3], [0, 1, 2*tf, 3*tf**2]])\n",
    "        self.b = np.array([q0,v0,qf,vf])\n",
    "        self.x = solve(self.A, self.b)\n",
    "    q  = lambda self,t : self.x[0]+self.x[1]*t+self.x[2]*t**2+self.x[3]*t**3\n",
    "    qd = lambda self,t : self.x[1]+2*self.x[2]*t+3*self.x[3]*t**2\n",
    "    qdd= lambda self,t : 2*self.x[2]*t+6*self.x[3]*t\n",
    "    \n",
    "    \n",
    "    "
   ]
  },
  {
   "cell_type": "code",
   "execution_count": 15,
   "id": "473ac0c9-8a5c-438a-9e45-ff1e186ce385",
   "metadata": {},
   "outputs": [],
   "source": [
    "# control path generation\n",
    "kp_x = [2.0, 0.0, 0.5, 1.0, 1.5, 2.0, 2.5, 3.0, 3.5, 4.0, 2.0]\n",
    "kp_y = [0.0, 1.0, 0.8, 1.0, 0.8, 1.0, 0.8, 1.0, 0.8, 1.0, 0.0]\n",
    "pd = 0.5\n",
    "kpd_x= [0.0, 0.0,  pd, 0.0,  pd, 0.0,  pd, 0.0,  pd, 0.0, 0.0] #start speed\n",
    "kpd_y= [0.0, 0.0, 0.0, 0.0, 0.0, 0.0, 0.0, 0.0, 0.0, 0.0, 0.0] #start speed\n",
    "dt = 1.0\n",
    "kp_t = [0.0, 1.0, 2.0, 3.0, 4.0, 5.0, 6.0, 7.0, 8.0, 9.0, 10.0] #dT\n",
    "\n",
    "kp_t = [0.0, 5.0, 2.0, 2.0, 2.0, 2.0, 2.0, 2.0, 2.0, 2.0, 6.0] #dT\n",
    "kp_t_nn=[]\n",
    "for i in range(len(kp_t)):\n",
    "    kp_t_nn.append(np.sum((kp_t[:i+1])))\n",
    "kp_t=kp_t_nn.copy()\n",
    "\n",
    "\n",
    "gasSrc_x = [0.0, 1.0, 2.0, 3.0, 4.0] \n",
    "gasSrc_y = [1.2, 1.2, 1.2, 1.2, 1.2] \n",
    "#t0,tf,q0,v0,qf,vf\n",
    "planning = []\n",
    "for i in range(len(kp_x)-1):\n",
    "    planning.append([cptKp1d(kp_t[i],kp_t[i+1],kp_x[i],kpd_x[i],kp_x[i+1],kpd_x[i+1]), cptKp1d(kp_t[i],kp_t[i+1],kp_y[i],kpd_y[i],kp_y[i+1],kpd_y[i+1])])\n",
    "limd_x = 0.5\n",
    "limd_y = 0.9"
   ]
  },
  {
   "cell_type": "code",
   "execution_count": 5,
   "id": "35f15714-bd42-4bc4-b1a5-22d45f6c3a1e",
   "metadata": {},
   "outputs": [],
   "source": [
    "del myUt"
   ]
  },
  {
   "cell_type": "code",
   "execution_count": 16,
   "id": "56a47bb2-819f-4f6b-942f-1c107091c3a8",
   "metadata": {},
   "outputs": [],
   "source": [
    "import numpy as np\n",
    "myUt = unitreeController('192.168.123.162', 3114)\n",
    "\n",
    "\n",
    "for plan in planning:\n",
    "    tvec = np.linspace(plan[0].t0,plan[0].tf,100)\n",
    "    vx=plan[0].qd(tvec)\n",
    "    vy=plan[1].qd(tvec)\n",
    "    for n in range(len(tvec)):\n",
    "        myUt.getState()\n",
    "        myUt.cmd['mode']=2\n",
    "        vx[n]\n",
    "        vy[n]\n",
    "        myUt.cmd['mode']=2\n",
    "        myUt.cmd['forwardSpeed'] = -vy[n]\n",
    "        myUt.cmd['sideSpeed'] = -vx[n]\n",
    "        myUt.setCmd()\n",
    "    time.sleep(0.1)\n",
    "del myUt"
   ]
  },
  {
   "cell_type": "code",
   "execution_count": 21,
   "id": "59f8eb2c-5e06-4322-8d15-99ba2ae962ef",
   "metadata": {},
   "outputs": [
    {
     "name": "stdout",
     "output_type": "stream",
     "text": [
      "0\n",
      "1\n",
      "2\n"
     ]
    }
   ],
   "source": [
    "tt = np.array([1,2,3])\n",
    "for i in range(len(tt)):\n",
    "    print(i)"
   ]
  },
  {
   "cell_type": "markdown",
   "id": "33e5ab71-79fc-4215-8d42-cd36b1ac8b88",
   "metadata": {
    "jp-MarkdownHeadingCollapsed": true,
    "tags": []
   },
   "source": [
    "## Achieved Code"
   ]
  },
  {
   "cell_type": "code",
   "execution_count": 164,
   "id": "ee73abb9-ca23-4a47-928d-8003ca207d7d",
   "metadata": {},
   "outputs": [
    {
     "name": "stdout",
     "output_type": "stream",
     "text": [
      "21 ('192.168.123.161', 43203) b'{\"rpy\":[0.05525774,-0.00813840,1.03831446],\"gyr\":[0.05221350,-0.13353688,0.04668558],\"acl\":[-2.92020559,0.78068429,8.72213650],\"qut\":[-0.86784327,-0.02600333,-0.01017449,-0.49605274]}'\n"
     ]
    }
   ],
   "source": [
    "# UDP RX\n",
    "sock = socket.socket(socket.AF_INET, socket.SOCK_DGRAM)\n",
    "sock.bind((HOST, PORT))\n",
    "sock.settimeout(5)\n",
    "for i in range(50):\n",
    "    data, addr = sock.recvfrom(1024)\n",
    "    cmdMsg = \"{mode},{forwardSpeed},{sideSpeed},{rotateSpeed},{bodyHeight},{roll},{pitch},{yaw}\"\\\n",
    "    .format(mode=2,forwardSpeed=0.0,sideSpeed=0.,rotateSpeed=(i)/100,bodyHeight=0.5,roll=0,pitch=0,yaw=0)\n",
    "    udpMsg = cmdMsg#\"python send udp2\\n\"\n",
    "    #sock = socket.socket(socket.AF_INET, socket.SOCK_DGRAM) # UDP\n",
    "\n",
    "    n = sock.sendto(udpMsg.encode(), addr)\n",
    "    time.sleep(0.05)\n",
    "for i in range(50):\n",
    "    data, addr = sock.recvfrom(1024)\n",
    "    cmdMsg = \"{mode},{forwardSpeed},{sideSpeed},{rotateSpeed},{bodyHeight},{roll},{pitch},{yaw}\"\\\n",
    "    .format(mode=2,forwardSpeed=0.0,sideSpeed=0.,rotateSpeed=(100-i)/100,bodyHeight=0.5,roll=0,pitch=0,yaw=0)\n",
    "    udpMsg = cmdMsg#\"python send udp2\\n\"\n",
    "    #sock = socket.socket(socket.AF_INET, socket.SOCK_DGRAM) # UDP\n",
    "\n",
    "    n = sock.sendto(udpMsg.encode(), addr)\n",
    "    time.sleep(0.05)\n",
    "    \n",
    "for i in range(10):\n",
    "    data, addr = sock.recvfrom(1024)\n",
    "    cmdMsg = \"{mode},{forwardSpeed},{sideSpeed},{rotateSpeed},{bodyHeight},{roll},{pitch},{yaw}\"\\\n",
    "    .format(mode=1,forwardSpeed=0.0,sideSpeed=0.,rotateSpeed=0,bodyHeight=0.5,roll=0,pitch=0,yaw=0)\n",
    "    udpMsg = cmdMsg#\"python send udp2\\n\"\n",
    "    #sock = socket.socket(socket.AF_INET, socket.SOCK_DGRAM) # UDP\n",
    "\n",
    "    n = sock.sendto(udpMsg.encode(), addr)\n",
    "    time.sleep(0.05)\n",
    "sock.close()\n",
    "print(n,addr, data)"
   ]
  },
  {
   "cell_type": "code",
   "execution_count": null,
   "id": "37c562d0-00de-4171-a56b-b767e627356c",
   "metadata": {},
   "outputs": [],
   "source": []
  }
 ],
 "metadata": {
  "kernelspec": {
   "display_name": "Python 3",
   "language": "python",
   "name": "python3"
  },
  "language_info": {
   "codemirror_mode": {
    "name": "ipython",
    "version": 3
   },
   "file_extension": ".py",
   "mimetype": "text/x-python",
   "name": "python",
   "nbconvert_exporter": "python",
   "pygments_lexer": "ipython3",
   "version": "3.8.12"
  }
 },
 "nbformat": 4,
 "nbformat_minor": 5
}
