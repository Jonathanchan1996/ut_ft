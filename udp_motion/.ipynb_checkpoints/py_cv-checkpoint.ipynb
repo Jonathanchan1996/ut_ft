{
 "cells": [
  {
   "cell_type": "code",
   "execution_count": 2,
   "id": "ddc7ec2b-fd73-4792-b372-64725e6437d1",
   "metadata": {},
   "outputs": [],
   "source": [
    "import cv2 as cv\n",
    "from scipy.signal import find_peaks\n",
    "from IPython.display import clear_output\n",
    "from matplotlib import pyplot as plt\n",
    "import numpy as np"
   ]
  },
  {
   "cell_type": "code",
   "execution_count": 13,
   "id": "ab1a6370-6082-43ac-9fec-7ef48d5cdea8",
   "metadata": {},
   "outputs": [
    {
     "name": "stdout",
     "output_type": "stream",
     "text": [
      "48.0\n"
     ]
    }
   ],
   "source": [
    "\n",
    "cam = cv.VideoCapture('http://192.168.123.12:8080/?action=stream')\n",
    "h, w = 480, 848 #img.shape\n",
    "h_half, w_half = int(h/2), int(w/2)\n",
    "canvas = np.zeros((h,w,1),dtype = \"uint8\")\n",
    "\n",
    "plt.close('all')\n",
    "\n",
    "while 1:\n",
    "    ret, img = cam.read()\n",
    "\n",
    "    clear_output(wait=True)\n",
    "    l_pos, r_pos = [],[]\n",
    "    ddmean = 0\n",
    "    for j in range(3): #rgb\n",
    "        meanVec = []\n",
    "        for i in range(10):\n",
    "            meanVec.append(img[h_half+i,:, j])\n",
    "        meanVec = np.mean(meanVec, axis=0)\n",
    "        ddmean = np.diff(meanVec) #dy/dx\n",
    "        #ddmean = np.convolve(meanVec,[-1,0,1])\n",
    "        ddmean = np.abs(np.convolve(ddmean,(1/9)*np.ones(9))) #mean+abs filter\n",
    "        peaks, _ = find_peaks(ddmean[0:int(w_half)], prominence=1,width=5) #left image\n",
    "        peaks2, _ = find_peaks(ddmean[w_half:-1], prominence=1,width=5) #Right image \n",
    "        if len(peaks)>0:\n",
    "            l_pos.append(peaks[-1])\n",
    "        if len(peaks2)>0:\n",
    "            r_pos.append(peaks2[0])\n",
    "        \n",
    "    if len(l_pos)>0:\n",
    "        cen = np.mean(l_pos, dtype=int)\n",
    "        cv.line(img, (cen,0),(cen,w), (0,0,255), 3)\n",
    "        \n",
    "    \n",
    "    if len(r_pos)>0:\n",
    "        cen = w_half+np.mean(r_pos, dtype=int)#peaks2[0]#w_half+int((peaks2[0]+peaks2[1])/2)\n",
    "        cv.line(img, (cen,0),(cen,w), (0,255,0), 3)\n",
    "        \n",
    "    cv.line(img, (w_half,0),(w_half,w), (255,0,0), 3) #middle line\n",
    "    cv.imshow('D435 image', img)\n",
    "    if len(peaks)>0 and len(peaks2)>0:\n",
    "        pos = w_half-(peaks[-1]+w_half+peaks2[0])/2\n",
    "        print(pos)\n",
    "    #cv.imshow('D435 image', img[:,:,0])\n",
    "    # plt.plot(ddmean)\n",
    "    # plt.plot([w_half,w_half], [0,20])\n",
    "    # plt.plot(peaks, ddmean[peaks], 'rx')\n",
    "    # plt.plot(w_half+peaks2, ddmean[w_half:-1][peaks2], 'rx')\n",
    "    # plt.show()\n",
    "    \n",
    "    if 0xFF & cv.waitKey(5) == 27:\n",
    "        break\n",
    "cv.destroyAllWindows()"
   ]
  },
  {
   "cell_type": "code",
   "execution_count": 25,
   "id": "a4ff9b2f-60c9-48fa-aad5-23171a25cd22",
   "metadata": {},
   "outputs": [
    {
     "data": {
      "text/plain": [
       "433"
      ]
     },
     "execution_count": 25,
     "metadata": {},
     "output_type": "execute_result"
    }
   ],
   "source": [
    "ddmean[w_half:-1].size"
   ]
  },
  {
   "cell_type": "code",
   "execution_count": 45,
   "id": "974d5897-e9aa-407d-86ba-b07e87548074",
   "metadata": {},
   "outputs": [
    {
     "data": {
      "text/plain": [
       "[<matplotlib.lines.Line2D at 0x2488db63850>]"
      ]
     },
     "execution_count": 45,
     "metadata": {},
     "output_type": "execute_result"
    },
    {
     "data": {
      "image/png": "[encoded data removed]",
      "text/plain": [
       "<Figure size 432x288 with 1 Axes>"
      ]
     },
     "metadata": {
      "needs_background": "light"
     },
     "output_type": "display_data"
    }
   ],
   "source": [
    "# ddmean = np.convolve(meanVec,[-1,0,1])\n",
    "# ddmean = np.convolve(ddmean,0.1*np.ones(9))\n",
    "from matplotlib.ticker import (AutoMinorLocator, MultipleLocator)\n",
    "plt.close('all')\n",
    "fig = plt.figure() #constrained_layout=True\n",
    "gs = fig.add_gridspec(1, 1)\n",
    "ax=[]\n",
    "ax.append(fig.add_subplot(gs[0]))\n",
    "thisAx = ax[0]\n",
    "\n",
    "thisAx.plot(ddmean)\n",
    "thisAx.plot([w_half,w_half], [-20,20])\n",
    "thisAx.plot(peaks, ddmean[peaks], 'rx')\n",
    "thisAx.plot(w_half+peaks2, ddmean[w_half:-1][peaks2], 'rx')\n",
    "#thisAx.plot(peaks2, ddmean[peaks2], 'rx')"
   ]
  },
  {
   "cell_type": "markdown",
   "id": "4ae4f573-3eb6-4dbd-a170-c9a3ab6fda67",
   "metadata": {},
   "source": [
    "## ORB"
   ]
  },
  {
   "cell_type": "code",
   "execution_count": 12,
   "id": "912bc9b0-da96-4228-bb9a-c652624e56fe",
   "metadata": {},
   "outputs": [],
   "source": [
    "import numpy as np\n",
    "import cv2 as cv\n",
    "from matplotlib import pyplot as plt\n",
    "import copy\n",
    "\n",
    "class imgOrb:\n",
    "    def __init__(self, image):\n",
    "        self.img = image\n",
    "        self.orb = cv.ORB_create()\n",
    "        self.kp = self.orb.detect(self.img,None)\n",
    "        self.kp, self.des = self.orb.compute(self.img, self.kp)\n",
    "    def drawKp(self):\n",
    "        return cv.drawKeypoints(self.img, self.kp, None, color=(0,255,0), flags=0)\n",
    "    #def __del__(self):\n",
    "        # body of destructor\n",
    "\n",
    "# My symbol\n",
    "img = cv.imread('hkust.png')\n",
    "myLogo = imgOrb(img)\n",
    "\n",
    "#RGB camera\n",
    "#cam = cv.VideoCapture(0)\n",
    "cam = cv.VideoCapture('http://192.168.123.12:8080/?action=stream')\n",
    "if cam.read() == False:\n",
    "    cam.open()\n",
    "if not cam.isOpened():\n",
    "    print('Cannot open camera')\n",
    "    exit()\n",
    "\n",
    "ret,frame = cam.read()\n",
    "lastframe = imgOrb(frame)\n"
   ]
  },
  {
   "cell_type": "code",
   "execution_count": 19,
   "id": "7b5e2fb0-e390-4263-9cb1-30b07f077242",
   "metadata": {},
   "outputs": [
    {
     "name": "stdout",
     "output_type": "stream",
     "text": [
      "10\n",
      "Unmatched\n"
     ]
    }
   ],
   "source": [
    "while True:\n",
    "    ret,frame = cam.read()\n",
    "    myCam = imgOrb(frame)\n",
    "    matcher = cv.BFMatcher()\n",
    "    matches = matcher.match(myCam.des,myLogo.des)\n",
    "    final_img = cv.drawMatches(myCam.img, myCam.kp,myLogo.img, myLogo.kp, matches[:10],None)\n",
    "    #print(len(matches))\n",
    "    cv.imshow('ORB', final_img)\n",
    "    lastframe = copy.copy(myCam)\n",
    "    del myCam\n",
    "    clear_output(wait=True)\n",
    "    matchCnt = len(matches)-490\n",
    "    print(matchCnt)\n",
    "    if matchCnt > 10:\n",
    "        print('matched')\n",
    "    else:\n",
    "        print('Unmatched')\n",
    "    if cv.waitKey(1)&0xFF == ord('q'):\n",
    "        break"
   ]
  },
  {
   "cell_type": "markdown",
   "id": "b79b3311-c312-4145-96e9-9a3053037e0b",
   "metadata": {},
   "source": [
    "## SIFT"
   ]
  },
  {
   "cell_type": "code",
   "execution_count": 24,
   "id": "fedf6fb7-9ef8-4b6d-aba2-11f24484b74e",
   "metadata": {},
   "outputs": [
    {
     "name": "stdout",
     "output_type": "stream",
     "text": [
      "matched: 32 -48.645728978656585\n"
     ]
    }
   ],
   "source": [
    "import cv2\n",
    "import numpy as np\n",
    "import time\n",
    "from IPython.display import clear_output\n",
    "\n",
    "numberMatchingThreshold = 10 \n",
    "posXMean = np.array([0,0,0])\n",
    "#cam = cv2.VideoCapture(0) \n",
    "cam = cv2.VideoCapture('http://192.168.123.12:8080/?action=stream')\n",
    "\n",
    "if cam.read() == False:\n",
    "    cam.open()\n",
    "\n",
    "if not cam.isOpened():\n",
    "    print('Cannot open camera')\n",
    "\n",
    "\n",
    "#SIFT\n",
    "sift = cv2.xfeatures2d.SIFT_create()\n",
    "\n",
    "img = cv2.imread('hkust.png', cv2.IMREAD_COLOR)\n",
    "\n",
    "scale_percent = 100\n",
    "dim = (int(img.shape[1] * scale_percent / 100), int(img.shape[0] * scale_percent / 100))\n",
    "img = cv2.resize(img, dim, interpolation = cv2.INTER_AREA)\n",
    "\n",
    "\n",
    "kp1, des1 = sift.detectAndCompute(img,None)\n",
    "\n",
    "# FLANN parameters\n",
    "FLANN_INDEX_KDTREE = 1\n",
    "index_params = dict(algorithm = FLANN_INDEX_KDTREE, trees = 5)\n",
    "search_params = dict(checks=50)   # or pass empty dictionary\n",
    "flann = cv2.FlannBasedMatcher(index_params,search_params)\n",
    "\n",
    "\n",
    "while True:\n",
    "    ret,frame = cam.read()\n",
    "    \n",
    "    h, w, c = frame.shape\n",
    "    kp2, des2, matches = 0,0,0\n",
    "    try:\n",
    "        kp2, des2 = sift.detectAndCompute(frame,None)\n",
    "        matches = flann.knnMatch(des1,des2,k=2)\n",
    "    except:\n",
    "        continue\n",
    "    matchesMask = [[0,0] for i in range(len(matches))]\n",
    "    good=[]\n",
    "    # ratio test as per Lowe's paper\n",
    "    for i,(m,n) in enumerate(matches):\n",
    "        if m.distance < 0.7*n.distance:\n",
    "            good.append(m)\n",
    "            matchesMask[i]=[1,0]\n",
    "    # Initialize lists\n",
    "    x,y=[],[]\n",
    "    for m in good:\n",
    "        img2_idx = m.trainIdx\n",
    "        (x2, y2) = kp2[img2_idx].pt\n",
    "        x.append(x2)\n",
    "        y.append(y2)\n",
    "    x = np.array(x)\n",
    "    y = np.array(y)\n",
    "    clear_output(wait=True)\n",
    "    if(len(good)>numberMatchingThreshold):\n",
    "        posXMean=np.delete(posXMean, 0)\n",
    "        posXMean=np.append(posXMean, np.mean(x)-w/2)\n",
    "        print(\"matched:\",len(good), np.mean(posXMean))\n",
    "\n",
    "    else:\n",
    "        posXMean = np.array([0,0,0])\n",
    "        print(\"unmatched\")\n",
    "    \n",
    "    #Plot\n",
    "    draw_params = dict(matchColor = (0,255,0),singlePointColor = (255,0,0),matchesMask = matchesMask,flags = cv2.DrawMatchesFlags_DEFAULT)\n",
    "    view=cv2.drawMatchesKnn(img,kp1,frame,kp2,matches,None,**draw_params)\n",
    "    cv2.imshow('webcam', view)\n",
    "\n",
    "\n",
    "    if cv2.waitKey(1)&0xFF == ord('q'):\n",
    "        break\n",
    "\n",
    "#cam.release()\n",
    "cv2.destroyAllWindows()"
   ]
  }
 ],
 "metadata": {
  "kernelspec": {
   "display_name": "Python 3",
   "language": "python",
   "name": "python3"
  },
  "language_info": {
   "codemirror_mode": {
    "name": "ipython",
    "version": 3
   },
   "file_extension": ".py",
   "mimetype": "text/x-python",
   "name": "python",
   "nbconvert_exporter": "python",
   "pygments_lexer": "ipython3",
   "version": "3.8.12"
  }
 },
 "nbformat": 4,
 "nbformat_minor": 5
}
