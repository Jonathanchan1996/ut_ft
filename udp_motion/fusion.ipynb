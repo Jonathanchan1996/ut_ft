{
 "cells": [
  {
   "cell_type": "code",
   "execution_count": 11,
   "id": "91977859-3f84-4a2f-8804-b9563d1f4606",
   "metadata": {},
   "outputs": [],
   "source": [
    "import _thread, time, socket, json\n",
    "import numpy as np\n",
    "from IPython.display import clear_output"
   ]
  },
  {
   "cell_type": "code",
   "execution_count": 7,
   "id": "ddb493af-a239-4976-b8cd-e9e3c932c1e3",
   "metadata": {},
   "outputs": [],
   "source": [
    "def imu_ctrl_main(threadName, delay):\n",
    "    count = 0\n",
    "    print(\"Thread starts: \", threadName)\n",
    "    while count < 5:\n",
    "        time.sleep(delay)\n",
    "        count += 1\n",
    "        print('imu')\n",
    "\n"
   ]
  },
  {
   "cell_type": "code",
   "execution_count": 8,
   "id": "26f0c775-4a6d-4da3-908b-12da6c4a6f1b",
   "metadata": {},
   "outputs": [],
   "source": [
    "def cv_main(threadName, delay):\n",
    "    count = 0\n",
    "    print(\"Thread starts: \", threadName)\n",
    "    while count < 5:\n",
    "        time.sleep(delay)\n",
    "        count += 1\n",
    "        print('cv')"
   ]
  },
  {
   "cell_type": "code",
   "execution_count": 10,
   "id": "7bdaa880-75e9-4be5-80bf-8fafc7e335db",
   "metadata": {},
   "outputs": [
    {
     "name": "stdout",
     "output_type": "stream",
     "text": [
      "Thread starts:  imu_ctrl_thread\n",
      "Thread starts:  cv_thread\n",
      "imu\n",
      "cvimu\n",
      "\n",
      "imu\n",
      "imu\n",
      "cv\n",
      "imu\n",
      "cv\n",
      "cv\n",
      "cv\n"
     ]
    }
   ],
   "source": [
    "try:\n",
    "    _thread.start_new_thread(imu_ctrl_main, (\"imu_ctrl_thread\", 1, ))\n",
    "    _thread.start_new_thread(cv_main, (\"cv_thread\", 2, ))\n",
    "except:\n",
    "    print(\"Error: to start thread\")\n",
    "\n"
   ]
  },
  {
   "cell_type": "code",
   "execution_count": null,
   "id": "b9b1b859-16ba-45e3-b738-35c399f9f5ce",
   "metadata": {},
   "outputs": [],
   "source": []
  }
 ],
 "metadata": {
  "kernelspec": {
   "display_name": "Python 3",
   "language": "python",
   "name": "python3"
  },
  "language_info": {
   "codemirror_mode": {
    "name": "ipython",
    "version": 3
   },
   "file_extension": ".py",
   "mimetype": "text/x-python",
   "name": "python",
   "nbconvert_exporter": "python",
   "pygments_lexer": "ipython3",
   "version": "3.8.12"
  }
 },
 "nbformat": 4,
 "nbformat_minor": 5
}
