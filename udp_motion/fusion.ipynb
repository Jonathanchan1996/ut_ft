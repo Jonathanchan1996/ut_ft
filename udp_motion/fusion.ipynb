{
 "cells": [
  {
   "cell_type": "code",
   "execution_count": 16,
   "id": "91977859-3f84-4a2f-8804-b9563d1f4606",
   "metadata": {},
   "outputs": [],
   "source": [
    "import _thread, time, socket, json\n",
    "import numpy as np\n",
    "from IPython.display import clear_output"
   ]
  },
  {
   "cell_type": "code",
   "execution_count": 7,
   "id": "ddb493af-a239-4976-b8cd-e9e3c932c1e3",
   "metadata": {},
   "outputs": [],
   "source": [
    "def imu_ctrl_main(threadName, delay):\n",
    "    count = 0\n",
    "    print(\"Thread starts: \", threadName)\n",
    "    while count < 5:\n",
    "        time.sleep(delay)\n",
    "        count += 1\n",
    "        print('imu')\n",
    "\n"
   ]
  },
  {
   "cell_type": "code",
   "execution_count": 8,
   "id": "26f0c775-4a6d-4da3-908b-12da6c4a6f1b",
   "metadata": {},
   "outputs": [],
   "source": [
    "def cv_main(threadName, delay):\n",
    "    count = 0\n",
    "    print(\"Thread starts: \", threadName)\n",
    "    while count < 5:\n",
    "        time.sleep(delay)\n",
    "        count += 1\n",
    "        print('cv')"
   ]
  },
  {
   "cell_type": "code",
   "execution_count": 10,
   "id": "7bdaa880-75e9-4be5-80bf-8fafc7e335db",
   "metadata": {},
   "outputs": [
    {
     "name": "stdout",
     "output_type": "stream",
     "text": [
      "Thread starts:  imu_ctrl_thread\n",
      "Thread starts:  cv_thread\n",
      "imu\n",
      "cvimu\n",
      "\n",
      "imu\n",
      "imu\n",
      "cv\n",
      "imu\n",
      "cv\n",
      "cv\n",
      "cv\n"
     ]
    }
   ],
   "source": [
    "try:\n",
    "    _thread.start_new_thread(imu_ctrl_main, (\"imu_ctrl_thread\", 1, ))\n",
    "    _thread.start_new_thread(cv_main, (\"cv_thread\", 2, ))\n",
    "except:\n",
    "    print(\"Error: to start thread\")\n",
    "\n"
   ]
  },
  {
   "cell_type": "code",
   "execution_count": null,
   "id": "03bc6bca-0ebd-4fc1-91f4-ce6bb8dcef3b",
   "metadata": {},
   "outputs": [],
   "source": [
    "# + is forward, #- is backward\n",
    "# + is left, #- is right\n",
    "# + is anti clk, #- is clk,\n",
    "\n",
    "# myRawPath = utct.rawPath()\n",
    "# myRawPath.record(myUt.imu['pos'][0], myUt.imu['pos'][1], myUt.imu['rpy'][2])\n",
    "# myRawPath.recordErr(0,0,ctrl_rs)\n",
    "# myRawPath.setGloPos()"
   ]
  },
  {
   "cell_type": "code",
   "execution_count": 7,
   "id": "b9b1b859-16ba-45e3-b738-35c399f9f5ce",
   "metadata": {},
   "outputs": [
    {
     "name": "stdin",
     "output_type": "stream",
     "text": [
      " \n"
     ]
    }
   ],
   "source": [
    "import unitree_sdk as utct\n",
    "import numpy as np\n",
    "import time\n",
    "from IPython.display import clear_output\n",
    "\n",
    "mySpLst = [] #List of position set point\n",
    "#mySpLst.append(utct.setPoint(0.0, 0.0, 0.4*np.pi, maxRunCnt=200))\n",
    "mySpLst.append(utct.setPoint(0.0, 0.0, 0.0*np.pi, maxRunCnt=200))\n",
    "#mySpLst.append(utct.setPoint(0.0, 0.0,-0.4*np.pi, maxRunCnt=200))\n",
    "\n",
    "myUt = utct.controller('192.168.123.162', 3114)\n",
    "\n",
    "for mySp in mySpLst:\n",
    "    for i in range(mySp.maxRunCnt):\n",
    "        myUt.getState()\n",
    "        ctrl_fs = 2*(mySp.x-myUt.imu['pos'][0]) \n",
    "        ctrl_ss = 3*(mySp.y-myUt.imu['pos'][1])\n",
    "        ctrl_rs = 2*utct.roundYawCtrl(mySp.yaw-myUt.imu['rpy'][2])\n",
    "        myUt.runSpeed(ctrl_fs, ctrl_ss, ctrl_rs)\n",
    "        time.sleep(mySp.timeStep)\n",
    "        clear_output(wait=True)\n",
    "    x = input()\n",
    "del myUt"
   ]
  },
  {
   "cell_type": "code",
   "execution_count": 3,
   "id": "4076df5f-3823-4074-9fd7-9c9c58ecd3b4",
   "metadata": {
    "jupyter": {
     "source_hidden": true
    },
    "tags": []
   },
   "outputs": [
    {
     "data": {
      "text/plain": [
       "(-5.0, 5.0)"
      ]
     },
     "execution_count": 3,
     "metadata": {},
     "output_type": "execute_result"
    },
    {
     "data": {
      "image/png": "[encoded data removed]",
      "text/plain": [
       "<Figure size 864x288 with 4 Axes>"
      ]
     },
     "metadata": {
      "needs_background": "light"
     },
     "output_type": "display_data"
    }
   ],
   "source": [
    "import matplotlib.pyplot as plt\n",
    "from matplotlib.ticker import (AutoMinorLocator, MultipleLocator)\n",
    "\n",
    "plt.close('all')\n",
    "fig = plt.figure(figsize=(12,4)) #constrained_layout=True\n",
    "gs = fig.add_gridspec(3, 2)\n",
    "ax=[]\n",
    "ax.append(fig.add_subplot(gs[0, 0]))\n",
    "ax.append(fig.add_subplot(gs[1, 0]))\n",
    "ax.append(fig.add_subplot(gs[2, 0]))\n",
    "ax.append(fig.add_subplot(gs[:, 1]))\n",
    "thisAx = ax[0]\n",
    "thisAx.plot(myRawPath.loc_x)\n",
    "thisAx.set_ylabel('x (m)')\n",
    "thisAx = ax[1]\n",
    "thisAx.plot(myRawPath.loc_y)\n",
    "thisAx.set_ylabel('y (m)')\n",
    "thisAx = ax[2]\n",
    "#thisAx.plot(np.divide(myRawPath.loc_yaw,np.pi))\n",
    "thisAx.plot(np.divide(myRawPath.err_yaw,1))\n",
    "thisAx.set_ylabel('Yaw (pi rad)')\n",
    "thisAx = ax[3]\n",
    "thisAx.plot(myRawPath.glo_x,myRawPath.glo_y)\n",
    "thisAx.plot(myRawPath.glo_x[-1],myRawPath.glo_y[-1], 'rx')\n",
    "thisAx.text(myRawPath.glo_x[-1],myRawPath.glo_y[-1], '  end')\n",
    "thisAx.plot(myRawPath.glo_x[ 0],myRawPath.glo_y[ 0], 'ro')\n",
    "thisAx.text(myRawPath.glo_x[ 0],myRawPath.glo_y[ 0], '  start')\n",
    "thisAx.set_title(\"Calculated Position/odometry\")\n",
    "thisAx.set_xlabel('x (m)')\n",
    "thisAx.set_ylabel('y (m)')\n",
    "thisAx.set_aspect(1)\n",
    "xlim=5\n",
    "ylim=5\n",
    "thisAx.set_xlim([-xlim,xlim])\n",
    "thisAx.set_ylim([-ylim,ylim])\n",
    "\n",
    "#fig.savefig(\"setpoint_xy7.png\")"
   ]
  },
  {
   "cell_type": "code",
   "execution_count": 23,
   "id": "e00a41d8-2d97-4884-ad3b-db6cfa14e348",
   "metadata": {},
   "outputs": [
    {
     "name": "stdout",
     "output_type": "stream",
     "text": [
      "(24, 124)\n",
      "0.05099964141845703\n"
     ]
    }
   ],
   "source": [
    "myCv = utcv.cvFindLine('http://192.168.123.12:8080/?action=stream')\n",
    "while 1:\n",
    "    clear_output(wait=True)\n",
    "    sta=time.time()\n",
    "    print(myCv.run(True))\n",
    "    print(time.time()-sta)\n",
    "    if myCv.exitCv():\n",
    "        del myCv\n",
    "        break"
   ]
  },
  {
   "cell_type": "code",
   "execution_count": 26,
   "id": "fa80a3b2-c6bf-4718-a4d5-eb50cced5658",
   "metadata": {},
   "outputs": [],
   "source": [
    "# CV-PID \n",
    "\n",
    "import unitree_sdk as utct\n",
    "import numpy as np\n",
    "import time\n",
    "from IPython.display import clear_output\n",
    "import unitree_cv as utcv\n",
    "\n",
    "#mySpLst.append(utct.setPoint(0.0, 0.0,-0.4*np.pi, maxRunCnt=200))\n",
    "mySpLst = [] #List of position set point\n",
    "#mySpLst.append(utct.setPoint(0.0, 0.0, 0.4*np.pi, maxRunCnt=200))\n",
    "mySpLst.append(utct.setPoint(0.0, 0.0, 0.0*np.pi, maxRunCnt=200))\n",
    "    \n",
    "def imu_ctrl_main(threadName, delay):\n",
    "    global cvCenterErr, cvLineDistance, cvEnable\n",
    "    myUt = utct.controller('192.168.123.162', 3114)\n",
    "\n",
    "    for mySp in mySpLst:\n",
    "        for i in range(mySp.maxRunCnt):\n",
    "            print(cvCenterErr, cvLineDistance)\n",
    "            myUt.getState()\n",
    "            \n",
    "            if cvEnable==True:\n",
    "                ctrl_fs = 0.1*(cvLineDistance-400)#2*(mySp.x-myUt.imu['pos'][0]) \n",
    "                ctrl_ss = cvCenterErr/800\n",
    "                ctrl_rs = 2*utct.roundYawCtrl(mySp.yaw-myUt.imu['rpy'][2])\n",
    "            else:\n",
    "                ctrl_fs = 2*(mySp.x-myUt.imu['pos'][0]) \n",
    "                ctrl_ss = 3*(mySp.y-myUt.imu['pos'][1])\n",
    "                ctrl_rs = 2*utct.roundYawCtrl(mySp.yaw-myUt.imu['rpy'][2])\n",
    "            myUt.runSpeed(ctrl_fs, ctrl_ss, ctrl_rs)\n",
    "            time.sleep(mySp.timeStep)\n",
    "            clear_output(wait=True)\n",
    "    del myUt\n",
    "    isCtrlEnd=True\n",
    "    print(threadName, 'end', isCtrlEnd)"
   ]
  },
  {
   "cell_type": "code",
   "execution_count": 25,
   "id": "e6557f18-19b0-43de-95ff-12739bf35725",
   "metadata": {},
   "outputs": [],
   "source": [
    "def cv_main(threadName, delay):\n",
    "    global cvCenterErr, cvLineDistance, isCtrlEnd\n",
    "    myCv = utcv.cvFindLine('http://192.168.123.12:8080/?action=stream')\n",
    "    while 1:\n",
    "        clear_output(wait=True)\n",
    "        print(isCtrlEnd)\n",
    "        cvCenterErr, cvLineDistance = myCv.run(True)\n",
    "        if myCv.exitCv() or (isCtrlEnd==True): \n",
    "            del myCv\n",
    "            print(threadName, 'end')\n",
    "            break"
   ]
  },
  {
   "cell_type": "code",
   "execution_count": 27,
   "id": "20ea4a02-2ef7-4f8e-9483-2e6f4732c53a",
   "metadata": {},
   "outputs": [
    {
     "name": "stdout",
     "output_type": "stream",
     "text": [
      "False\n",
      "cv_thread end\n"
     ]
    }
   ],
   "source": [
    "import _thread, time, socket, json\n",
    "cvCenterErr, cvLineDistance = 0,800\n",
    "isCtrlEnd = False\n",
    "cvEnable = True\n",
    "_thread.start_new_thread(imu_ctrl_main, (\"imu_ctrl_thread\", 1))\n",
    "_thread.start_new_thread(cv_main, (\"cv_thread\", 2, ))\n",
    "\n",
    "# try:\n",
    "#     _thread.start_new_thread(imu_ctrl_main, (\"imu_ctrl_thread\", 1))\n",
    "#     #_thread.start_new_thread(cv_main, (\"cv_thread\", 2, ))\n",
    "# except:\n",
    "#     print(\"Error: to start thread\")\n",
    "\n"
   ]
  }
 ],
 "metadata": {
  "kernelspec": {
   "display_name": "Python 3",
   "language": "python",
   "name": "python3"
  },
  "language_info": {
   "codemirror_mode": {
    "name": "ipython",
    "version": 3
   },
   "file_extension": ".py",
   "mimetype": "text/x-python",
   "name": "python",
   "nbconvert_exporter": "python",
   "pygments_lexer": "ipython3",
   "version": "3.8.12"
  }
 },
 "nbformat": 4,
 "nbformat_minor": 5
}
